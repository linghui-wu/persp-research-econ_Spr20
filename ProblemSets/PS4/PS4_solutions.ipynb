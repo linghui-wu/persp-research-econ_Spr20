{
 "cells": [
  {
   "cell_type": "markdown",
   "metadata": {},
   "source": [
    "## Problem Set #[4]\n",
    "\n",
    "MACS 30250, Dr. Evans\n",
    "\n",
    "Linghui Wu"
   ]
  },
  {
   "cell_type": "code",
   "execution_count": 1,
   "metadata": {},
   "outputs": [],
   "source": [
    "# Import libraries\n",
    "import time\n",
    "import pandas as pd\n",
    "import numpy as np\n",
    "import matplotlib.pyplot as plt\n",
    "import scipy.optimize as opt\n",
    "import scipy.linalg as la\n",
    "\n",
    "import warnings\n",
    "warnings.filterwarnings(\"ignore\")"
   ]
  },
  {
   "cell_type": "markdown",
   "metadata": {},
   "source": [
    "### Exercise 2.1."
   ]
  },
  {
   "cell_type": "code",
   "execution_count": 2,
   "metadata": {},
   "outputs": [],
   "source": [
    "# Set parameters\n",
    "beta = 0.96 ** 20\n",
    "delta = 1 - (1 - 0.05) ** 20\n",
    "sigma = 3\n",
    "A = 1\n",
    "alpha = 0.35\n",
    "nvec = np.array([1, 1, 0.2])\n",
    "SS_tol = 1e-09\n",
    "f_params = (nvec, A, alpha, delta)"
   ]
  },
  {
   "cell_type": "code",
   "execution_count": 3,
   "metadata": {},
   "outputs": [],
   "source": [
    "# Define auxiliary functions\n",
    "def get_r(alpha, A, L, K, delta):\n",
    "    return alpha * A * ((L / K) ** (1 - alpha)) - delta\n",
    "\n",
    "def get_w(alpha, A, L, K):\n",
    "    return (1 - alpha) * A * ((K / L) ** alpha)\n",
    "\n",
    "def get_K(b2, b3):\n",
    "    return b2 + b3\n",
    "\n",
    "def get_cons(b_s, b_s_1, n_s, r, w):\n",
    "    return w * n_s + (1 + r) * b_s - b_s_1\n",
    "\n",
    "def get_util(c, sigma):\n",
    "    return (c ** (1 - sigma) - 1) / (1 - sigma)\n",
    "\n",
    "def get_MU(c, sigma=3):\n",
    "    return c ** -sigma\n",
    "\n",
    "def get_Y(alpha, A, L, K):\n",
    "    return A * (K ** alpha) * (L ** (1 - alpha))"
   ]
  },
  {
   "cell_type": "code",
   "execution_count": 4,
   "metadata": {},
   "outputs": [],
   "source": [
    "# Define the `feasible` function\n",
    "def feasible(f_params, bvec_guess):\n",
    "    nvec, A, alpha, delta = f_params\n",
    "    b2, b3 = bvec_guess\n",
    "    K = get_K(b2, b3)\n",
    "    L = nvec.sum()\n",
    "    r = get_r(alpha, A, L, K, delta)\n",
    "    w = get_w(alpha, A, L, K)\n",
    "    c1 = get_cons(0, b2, nvec[0], r, w)\n",
    "    c2 = get_cons(b2, b3, nvec[1], r, w)\n",
    "    c3 = get_cons(b3, 0, nvec[2], r, w)\n",
    "    \n",
    "    b_cnstr = np.zeros(2, dtype=\"bool\")\n",
    "    \n",
    "    c_cnstr = np.zeros(3, dtype=\"bool\")\n",
    "    c_cnstr[0] = c1 <= 0\n",
    "    c_cnstr[1] = c2 <= 0\n",
    "    c_cnstr[2] = c3 <= 0\n",
    "    \n",
    "    K_cnstr = np.zeros(1, dtype=\"bool\")\n",
    "    K_cnstr[0] = K <= 0\n",
    "    \n",
    "    \n",
    "    if c_cnstr[0] ==  True:\n",
    "        b_cnstr[0] = True\n",
    "    if c_cnstr[1] == True:\n",
    "        b_cnstr[0] = True\n",
    "        b_cnstr[1] = True\n",
    "    if c_cnstr[1] == True:\n",
    "        b_cnstr[1] = True\n",
    "    \n",
    "    return b_cnstr, c_cnstr, K_cnstr"
   ]
  },
  {
   "cell_type": "markdown",
   "metadata": {},
   "source": [
    "#### (a)"
   ]
  },
  {
   "cell_type": "code",
   "execution_count": 5,
   "metadata": {
    "scrolled": true
   },
   "outputs": [
    {
     "name": "stdout",
     "output_type": "stream",
     "text": [
      "[ True False]\n",
      "[ True False False]\n",
      "[False]\n"
     ]
    }
   ],
   "source": [
    "bvec_guess = np.array([1.0, 1.2])\n",
    "b_cnstr, c_cnstr, K_cnstr = feasible(f_params, bvec_guess)\n",
    "print(b_cnstr)\n",
    "print(c_cnstr)\n",
    "print(K_cnstr)"
   ]
  },
  {
   "cell_type": "markdown",
   "metadata": {},
   "source": [
    "The above results show that the nonnegativity constraint of consumption in period 1 is violated."
   ]
  },
  {
   "cell_type": "markdown",
   "metadata": {},
   "source": [
    "#### (b)"
   ]
  },
  {
   "cell_type": "code",
   "execution_count": 6,
   "metadata": {},
   "outputs": [
    {
     "name": "stdout",
     "output_type": "stream",
     "text": [
      "[False False]\n",
      "[False False False]\n",
      "[False]\n"
     ]
    }
   ],
   "source": [
    "bvec_guess = np.array([0.06, -0.001])\n",
    "b_cnstr, c_cnstr, K_cnstr = feasible(f_params, bvec_guess)\n",
    "print(b_cnstr)\n",
    "print(c_cnstr)\n",
    "print(K_cnstr)"
   ]
  },
  {
   "cell_type": "markdown",
   "metadata": {},
   "source": [
    "The above results show that no constraints are violated."
   ]
  },
  {
   "cell_type": "markdown",
   "metadata": {},
   "source": [
    "#### (c)"
   ]
  },
  {
   "cell_type": "code",
   "execution_count": 7,
   "metadata": {},
   "outputs": [
    {
     "name": "stdout",
     "output_type": "stream",
     "text": [
      "[False False]\n",
      "[False False False]\n",
      "[False]\n"
     ]
    }
   ],
   "source": [
    "bvec_guess = np.array([0.1, 0.1])\n",
    "b_cnstr, c_cnstr, K_cnstr = feasible(f_params, bvec_guess)\n",
    "print(b_cnstr)\n",
    "print(c_cnstr)\n",
    "print(K_cnstr)"
   ]
  },
  {
   "cell_type": "markdown",
   "metadata": {},
   "source": [
    "The above results show that no constraints are violated."
   ]
  },
  {
   "cell_type": "markdown",
   "metadata": {},
   "source": [
    "### Exercise 2.2."
   ]
  },
  {
   "cell_type": "code",
   "execution_count": 8,
   "metadata": {},
   "outputs": [],
   "source": [
    "# Define a function that calculates the Euler errors\n",
    "def EulEqs(bvec, f_params):\n",
    "    nvec, A, alpha, delta, beta = f_params\n",
    "    b2, b3 = bvec\n",
    "    K = get_K(b2, b3)\n",
    "    L = nvec.sum()\n",
    "    r = get_r(alpha, A, L, K, delta)\n",
    "    w = get_w(alpha, A, L, K)\n",
    "    c1 = get_cons(0, b2, nvec[0], r, w)\n",
    "    c2 = get_cons(b2, b3, nvec[1], r, w)\n",
    "    c3 = get_cons(b3, 0, nvec[2], r, w)\n",
    "    MU1 = get_MU(c1)\n",
    "    MU2 = get_MU(c2)\n",
    "    MU3 = get_MU(c3)\n",
    "    \n",
    "    Eul1 = beta * (1 + r) * MU2 - MU1\n",
    "    Eul2 = beta * (1 + r) * MU3 - MU2\n",
    "    EulErr = np.array([Eul1, Eul2])\n",
    "    \n",
    "    return EulErr"
   ]
  },
  {
   "cell_type": "code",
   "execution_count": 9,
   "metadata": {},
   "outputs": [],
   "source": [
    "# Define the `get_SS` function\n",
    "def get_SS(params, bvec_guess, SS_graphs=False):\n",
    "    start_time = time.clock()\n",
    "    beta, sigma, nvec, L, A, alpha, delta, SS_tol = params\n",
    "    f_params = np.array([nvec, A, alpha, delta, beta])\n",
    "    b_ss = opt.root(EulEqs, bvec_guess, tol=SS_tol, args=(f_params)).x\n",
    "    \n",
    "    b2, b3 = b_ss\n",
    "    K_ss = get_K(b2, b3)\n",
    "    r_ss = get_r(alpha, A, L, K_ss, delta)\n",
    "    w_ss = get_w(alpha, A, L, K_ss)\n",
    "    Y_ss = get_Y(alpha, A, L, K_ss)\n",
    "    c1_ss = get_cons(0, b2, nvec[0], r_ss, w_ss)\n",
    "    c2_ss = get_cons(b2, b3, nvec[1], r_ss, w_ss)\n",
    "    c3_ss = get_cons(b3, 0, nvec[2], r_ss, w_ss)\n",
    "    c_ss = np.array([c1_ss, c2_ss, c3_ss])\n",
    "    C_ss = c_ss.sum()\n",
    "    EulErr_ss = EulEqs(b_ss, f_params)\n",
    "    RCerr_ss = Y_ss - C_ss - delta * K_ss\n",
    "    \n",
    "    end_time = time.clock()\n",
    "    ss_time = end_time - start_time\n",
    "    ss_output = {\n",
    "        \"b_ss\": b_ss, \"c_ss\": c_ss, \"w_ss\": w_ss, \"r_ss\": r_ss, \n",
    "        \"K_ss\": K_ss, \"Y_ss\": Y_ss, \"C_ss\": C_ss,\n",
    "        \"EulErr_ss\": EulErr_ss, \"RCerr_ss\": RCerr_ss,\n",
    "        \"ss_time\": ss_time\n",
    "        \n",
    "    }\n",
    "    \n",
    "    if SS_graphs:\n",
    "        fig, ax = plt.subplots()\n",
    "        ax.plot(np.arange(1, 4), c_ss, marker=\"o\", label=\"Consumption in Equilibrium\")\n",
    "        ax.plot(np.arange(2, 4), b_ss, marker=\"o\", label=\"Savings in Equilibrium\")\n",
    "        ax.legend()\n",
    "        ax.set_title(\"The Steady-state Distribution of Consumption and Savings\")\n",
    "        plt.show();\n",
    "        \n",
    "    return ss_output"
   ]
  },
  {
   "cell_type": "markdown",
   "metadata": {},
   "source": [
    "#### (a)"
   ]
  },
  {
   "cell_type": "code",
   "execution_count": 10,
   "metadata": {
    "scrolled": true
   },
   "outputs": [
    {
     "data": {
      "text/plain": [
       "{'b_ss': array([0.01931274, 0.05841159]),\n",
       " 'c_ss': array([0.18241256, 0.20961491, 0.24087382]),\n",
       " 'w_ss': 0.2017252935955733,\n",
       " 'r_ss': 2.4330302535646116,\n",
       " 'K_ss': 0.07772432611811347,\n",
       " 'Y_ss': 0.6827625321696328,\n",
       " 'C_ss': 0.6329012827935535,\n",
       " 'EulErr_ss': array([ 1.33582034e-12, -2.67164069e-12]),\n",
       " 'RCerr_ss': 3.469446951953614e-17,\n",
       " 'ss_time': 0.0006270000000001552}"
      ]
     },
     "execution_count": 10,
     "metadata": {},
     "output_type": "execute_result"
    }
   ],
   "source": [
    "params = (beta, sigma, nvec, nvec.sum(), A, alpha, delta, SS_tol)\n",
    "bvec_guess = np.array([0.1, 0.1])\n",
    "ss_output = get_SS(params, bvec_guess)\n",
    "ss_output"
   ]
  },
  {
   "cell_type": "markdown",
   "metadata": {},
   "source": [
    "#### (b)"
   ]
  },
  {
   "cell_type": "code",
   "execution_count": 11,
   "metadata": {},
   "outputs": [
    {
     "data": {
      "image/png": "[encoded data removed]",
      "text/plain": [
       "<Figure size 432x288 with 1 Axes>"
      ]
     },
     "metadata": {
      "needs_background": "light"
     },
     "output_type": "display_data"
    },
    {
     "data": {
      "text/plain": [
       "{'b_ss': array([0.01931274, 0.05841159]),\n",
       " 'c_ss': array([0.18241256, 0.20961491, 0.24087382]),\n",
       " 'w_ss': 0.2017252935955733,\n",
       " 'r_ss': 2.4330302535646116,\n",
       " 'K_ss': 0.07772432611811347,\n",
       " 'Y_ss': 0.6827625321696328,\n",
       " 'C_ss': 0.6329012827935535,\n",
       " 'EulErr_ss': array([ 1.33582034e-12, -2.67164069e-12]),\n",
       " 'RCerr_ss': 3.469446951953614e-17,\n",
       " 'ss_time': 0.0005129999999999857}"
      ]
     },
     "execution_count": 11,
     "metadata": {},
     "output_type": "execute_result"
    }
   ],
   "source": [
    "params = (beta, sigma, nvec, nvec.sum(), A, alpha, delta, SS_tol)\n",
    "bvec_guess = np.array([0.1, 0.1])\n",
    "ss_output = get_SS(params, bvec_guess, True)\n",
    "ss_output"
   ]
  },
  {
   "cell_type": "markdown",
   "metadata": {},
   "source": [
    "#### (c)"
   ]
  },
  {
   "cell_type": "code",
   "execution_count": 12,
   "metadata": {},
   "outputs": [
    {
     "data": {
      "image/png": "[encoded data removed]",
      "text/plain": [
       "<Figure size 432x288 with 1 Axes>"
      ]
     },
     "metadata": {
      "needs_background": "light"
     },
     "output_type": "display_data"
    },
    {
     "data": {
      "text/plain": [
       "{'b_ss': array([0.02817696, 0.07686557]),\n",
       " 'c_ss': array([0.19597535, 0.22861559, 0.26669216]),\n",
       " 'w_ss': 0.22415231191003315,\n",
       " 'r_ss': 1.8863599991452351,\n",
       " 'K_ss': 0.10504252550764615,\n",
       " 'Y_ss': 0.7586693633878046,\n",
       " 'C_ss': 0.6912831045288896,\n",
       " 'EulErr_ss': array([2.84217094e-14, 2.84217094e-14]),\n",
       " 'RCerr_ss': 9.71445146547012e-17,\n",
       " 'ss_time': 0.00034599999999995745}"
      ]
     },
     "execution_count": 12,
     "metadata": {},
     "output_type": "execute_result"
    }
   ],
   "source": [
    "params = (0.55, sigma, nvec, nvec.sum(), A, alpha, delta, SS_tol)\n",
    "bvec_guess = np.array([0.1, 0.1])\n",
    "ss_output = get_SS(params, bvec_guess, True)\n",
    "ss_output"
   ]
  },
  {
   "cell_type": "markdown",
   "metadata": {},
   "source": [
    "In the new steady-state, savings, consumptions, and wages in each period are higher, while the interest rate becomes lower. Capitals, outputs and total consumptions increase.\n",
    "\n",
    "Intuitively, when all households become more patient, people emphazise more on the later periods of their lif; so they would like to consume and save more in the future. When the savings increase, the interest rate decreases and more capitals are used by the firms. Marginal productivity of labor is higher and thus wages is larger."
   ]
  },
  {
   "cell_type": "markdown",
   "metadata": {},
   "source": [
    "### Exercise 2.3."
   ]
  },
  {
   "cell_type": "code",
   "execution_count": 13,
   "metadata": {},
   "outputs": [],
   "source": [
    "# Set parameters\n",
    "L = nvec.sum()\n",
    "T = 30\n",
    "tol = 1e-09\n",
    "xi = 0.2\n",
    "eul_tol = 1e-06\n",
    "max_iter = 10000\n",
    "params = (beta, sigma, nvec, L, A, alpha, delta, eul_tol)"
   ]
  },
  {
   "cell_type": "code",
   "execution_count": 14,
   "metadata": {},
   "outputs": [],
   "source": [
    "b_ss = get_SS(params, bvec_guess)[\"b_ss\"]\n",
    "b2_bar, b3_bar = b_ss\n",
    "\n",
    "b21 = 0.8 * b2_bar\n",
    "b31 = 1.1 * b3_bar\n",
    "bvec_guess = np.array([b21, b31])\n",
    "\n",
    "K1 = get_K(b21, b31)\n",
    "K_bar = get_K(b2_bar, b3_bar)\n",
    "K_path = np.linspace(K1, K_bar, T)\n",
    "K_path = np.append(K_path, K_bar)"
   ]
  },
  {
   "cell_type": "code",
   "execution_count": 15,
   "metadata": {},
   "outputs": [],
   "source": [
    "# Define auxiliary functions\n",
    "def get_path(T, K_path, K_bar, params):\n",
    "    r_path = np.zeros(T)\n",
    "    w_path = np.zeros(T)\n",
    "    for t in range(T):\n",
    "        r_path[t] = get_r(alpha, A, L, K_path[t], delta)\n",
    "        w_path[t] = get_w(alpha, A, L, K_path[t])\n",
    "    \n",
    "    r_bar = get_r(alpha, A, L, K_bar, delta)\n",
    "    w_bar = get_w(alpha, A, L, K_bar)\n",
    "    r_path = np.append(r_path, r_bar)\n",
    "    w_path = np.append(w_path, w_bar)\n",
    "    \n",
    "    return np.array([r_path, w_path])\n",
    "\n",
    "def EulEqs2(b32, b32_params):\n",
    "    b21, b22, r_path, w_path, params = b32_params\n",
    "    c1 = get_cons(b21, b32, params[2][1], r_path[0], w_path[0])\n",
    "    c2 = get_cons(b32, 0, params[2][2], r_path[1], w_path[1])\n",
    "    MU1 = get_MU(c1)\n",
    "    MU2 = get_MU(c2)\n",
    "    \n",
    "    return params[0] * (1 + r_path[1]) * MU2 - MU1\n",
    "\n",
    "def get_b32(b21, b22, r_path, w_path, params, bvec_guess):\n",
    "    b32_params = [b21, b22, r_path, w_path, params]\n",
    "    result = opt.root(EulEqs2, bvec_guess[0], args=b32_params, tol=params[7])\n",
    "    b32 = result.x\n",
    "    b32_EulErrs = result.fun\n",
    "    \n",
    "    return np.array([b32, b32_EulErrs])\n",
    "\n",
    "def get_b_EulErr(b, b_params):\n",
    "    t, r_path, w_path, params = b_params\n",
    "    \n",
    "    c21 = get_cons(0, b[0], params[2][0], 0, w_path[t])\n",
    "    c22 = get_cons(b[0], b[1], params[2][1], r_path[t + 1], w_path[t + 1])\n",
    "    MU21 = get_MU(c21)\n",
    "    MU22 = get_MU(c22)\n",
    "    Eul2 = params[0] * (1 + r_path[t + 1]) * MU22 - MU21\n",
    "    \n",
    "    c31 = get_cons(b[0], b[1], params[2][1], r_path[t + 1], w_path[t + 1])\n",
    "    c32 = get_cons(b[1], 0, params[2][2], r_path[t + 2], w_path[t + 2])\n",
    "    MU31 = get_MU(c31)\n",
    "    MU32 = get_MU(c32)\n",
    "    Eul3 = params[0] * (1 + r_path[t + 2]) * MU32 - MU31\n",
    "    \n",
    "    return np.array([Eul2, Eul3])\n",
    "    \n",
    "def get_b(t, r_path, w_path, params, bvec_guess):\n",
    "    b_params = [t, r_path, w_path, params]\n",
    "    result = opt.root(get_b_EulErr, bvec_guess, args=b_params, tol=params[7])\n",
    "    b = result.x\n",
    "    b_EulErrs = result.fun\n",
    "    \n",
    "    return np.array([b, b_EulErrs])\n",
    "    \n",
    "def get_errors(K_path, r_path, w_path, bmat, params):\n",
    "    L = params[2].sum()\n",
    "    C = L * w_path[:-1] + (1 + r_path[:-1]) * bmat[:-1, 0] - bmat[1:, 0] + (1 + r_path[:-1]) * bmat[:-1, 1] - bmat[1:, 1]\n",
    "    Y = params[4] * (K_path[:-1] ** params[5]) * (L ** (1 - params[5]))\n",
    "    agg_err = Y - C - K_path[1:] + (1 - params[6]) * K_path[:-1]\n",
    "\n",
    "    return np.abs(agg_err).max()\n",
    "    \n",
    "def get_result(T, r_path, w_path, K_path, bvec_guess, b_ss, params):\n",
    "    bmat = np.zeros((T + 1, 2))\n",
    "    bmat[0, :] = bvec_guess\n",
    "    EulErrs = np.zeros((T + 1, 2))\n",
    "    cols = [0, 1]\n",
    "    \n",
    "    for t in range(T - 1):\n",
    "        rows = [t + 1, t + 2]\n",
    "        bmat[rows, cols], EulErrs[rows, cols] = get_b(t, r_path, w_path, params, bvec_guess)\n",
    "    \n",
    "    bmat[1, 1], EulErrs[1, 1] = get_b32(bmat[0, 0], bmat[0, 1], r_path, w_path, params, bvec_guess)\n",
    "    max_EulErrs = np.abs(EulErrs).max(axis=0)\n",
    "    agg_errs = get_errors(K_path, r_path, w_path, bmat, params)\n",
    "    \n",
    "    return bmat, max_EulErrs, agg_errs\n",
    "\n",
    "\n",
    "def K_prime(bmat, K_bar):\n",
    "    K_p_path = bmat[:-1, :].sum(axis=1)\n",
    "    K_p_path = np.append(K_p_path, K_bar)\n",
    "    \n",
    "    return K_p_path\n",
    "\n",
    "def TPI(T, K_path, K_bar, bvec_guess, b_ss, params, tol, max_iter):\n",
    "    dist = 1e9\n",
    "    i = 0\n",
    "    while (dist > tol) & (i < max_iter):\n",
    "        i += 1\n",
    "        r_path, w_path = get_path(T, K_path, K_bar, params)\n",
    "        bmat, max_EulErrs, max_agg_errs = get_result(T, r_path, w_path, K_path, bvec_guess, b_ss, params)\n",
    "        K_p_path = K_prime(bmat, K_bar)\n",
    "        dist = la.norm(K_p_path - K_path, 2)\n",
    "        K_path = xi * K_p_path + (1 - xi) * K_path\n",
    "        \n",
    "    print(\"Max absolute Euler errors are {}.\".format((max_EulErrs)))\n",
    "    print(\"Max absolute aggregate resources constraint error is {}.\".format(max_agg_errs))\n",
    "    \n",
    "    return K_path, r_path, w_path\n",
    "    "
   ]
  },
  {
   "cell_type": "markdown",
   "metadata": {},
   "source": [
    "#### (a)"
   ]
  },
  {
   "cell_type": "code",
   "execution_count": 16,
   "metadata": {},
   "outputs": [
    {
     "name": "stdout",
     "output_type": "stream",
     "text": [
      "Max absolute Euler errors are [3.21338177e-07 9.46417344e-08].\n",
      "Max absolute aggregate resources constraint error is 0.019312734583687506.\n"
     ]
    }
   ],
   "source": [
    "K, r, w = TPI(T, K_path, K_bar, bvec_guess, b_ss, params, tol, max_iter)"
   ]
  },
  {
   "cell_type": "markdown",
   "metadata": {},
   "source": [
    "#### (b)"
   ]
  },
  {
   "cell_type": "code",
   "execution_count": 17,
   "metadata": {
    "scrolled": true
   },
   "outputs": [
    {
     "data": {
      "image/png": "[encoded data removed]",
      "text/plain": [
       "<Figure size 432x288 with 1 Axes>"
      ]
     },
     "metadata": {
      "needs_background": "light"
     },
     "output_type": "display_data"
    }
   ],
   "source": [
    "plt.plot(K)\n",
    "plt.title(\"Capital Transition Path\")\n",
    "plt.show();"
   ]
  },
  {
   "cell_type": "code",
   "execution_count": 18,
   "metadata": {},
   "outputs": [
    {
     "data": {
      "image/png": "[encoded data removed]",
      "text/plain": [
       "<Figure size 432x288 with 1 Axes>"
      ]
     },
     "metadata": {
      "needs_background": "light"
     },
     "output_type": "display_data"
    }
   ],
   "source": [
    "plt.plot(r)\n",
    "plt.title(\"Interest Rate Transition Path\")\n",
    "plt.show();"
   ]
  },
  {
   "cell_type": "code",
   "execution_count": 19,
   "metadata": {},
   "outputs": [
    {
     "data": {
      "image/png": "[encoded data removed]",
      "text/plain": [
       "<Figure size 432x288 with 1 Axes>"
      ]
     },
     "metadata": {
      "needs_background": "light"
     },
     "output_type": "display_data"
    }
   ],
   "source": [
    "plt.plot(w)\n",
    "plt.title(\"Wage Rate Transition Path\")\n",
    "plt.show();"
   ]
  },
  {
   "cell_type": "markdown",
   "metadata": {},
   "source": [
    "#### (c)"
   ]
  },
  {
   "cell_type": "code",
   "execution_count": 20,
   "metadata": {
    "scrolled": true
   },
   "outputs": [
    {
     "name": "stdout",
     "output_type": "stream",
     "text": [
      "The number of periods taken by the economy to get within 1e-05 pf the steady-state aggregate capital of stock capital is 2.\n",
      "\n",
      "The number of periods from which the economy stays with 1e-05 of the steady-state aggregate capital of stock capital is 10.\n"
     ]
    }
   ],
   "source": [
    "K_dist = np.abs(K - K_bar)\n",
    "err = 1e-05\n",
    "loc1 = np.where(K_dist < err)[0]\n",
    "print(\"The number of periods taken by the economy to get within 1e-05 pf the steady-state aggregate capital of stock capital is {}.\".format(loc1.min()))\n",
    "loc2 = loc1[-len(np.ediff1d(loc1) == 1)]\n",
    "print(\"\\nThe number of periods from which the economy stays with 1e-05 of the steady-state aggregate capital of stock capital is {}.\".format(loc2))"
   ]
  }
 ],
 "metadata": {
  "kernelspec": {
   "display_name": "Python 3",
   "language": "python",
   "name": "python3"
  },
  "language_info": {
   "codemirror_mode": {
    "name": "ipython",
    "version": 3
   },
   "file_extension": ".py",
   "mimetype": "text/x-python",
   "name": "python",
   "nbconvert_exporter": "python",
   "pygments_lexer": "ipython3",
   "version": "3.7.6"
  }
 },
 "nbformat": 4,
 "nbformat_minor": 4
}
