{
 "cells": [
  {
   "cell_type": "markdown",
   "metadata": {},
   "source": [
    "<!--BOOK_INFORMATION-->\n",
    "<img align=\"left\" style=\"padding-right:10px;\" src=\"figures/PDSH-cover-small.png\">\n",
    "*This notebook contains an excerpt from the [Python Data Science Handbook](http://shop.oreilly.com/product/0636920034919.do) by Jake VanderPlas; the content is available [on GitHub](https://github.com/jakevdp/PythonDataScienceHandbook).*\n",
    "\n",
    "*The text is released under the [CC-BY-NC-ND license](https://creativecommons.org/licenses/by-nc-nd/3.0/us/legalcode), and code is released under the [MIT license](https://opensource.org/licenses/MIT). If you find this content useful, please consider supporting the work by [buying the book](http://shop.oreilly.com/product/0636920034919.do)!*"
   ]
  },
  {
   "cell_type": "markdown",
   "metadata": {},
   "source": [
    "<!--NAVIGATION-->\n",
    "< [In Depth: Gaussian Mixture Models](05.12-Gaussian-Mixtures.ipynb) | [Contents](Index.ipynb) | [Application: A Face Detection Pipeline](05.14-Image-Features.ipynb) >"
   ]
  },
  {
   "cell_type": "markdown",
   "metadata": {},
   "source": [
    "# In-Depth: Kernel Density Estimation"
   ]
  },
  {
   "cell_type": "markdown",
   "metadata": {
    "collapsed": true
   },
   "source": [
    "In the previous section we covered Gaussian mixture models (GMM), which are a kind of hybrid between a clustering estimator and a density estimator.\n",
    "Recall that **a density estimator** is an algorithm which takes a $D$-dimensional dataset and produces an estimate of the $D$-dimensional probability distribution which that data is drawn from.\n",
    "The GMM algorithm accomplishes this by representing the density as a weighted sum of Gaussian distributions.\n",
    "*Kernel density estimation* (KDE) is in some senses an algorithm which takes the mixture-of-Gaussians idea to its logical extreme: it uses a mixture consisting of one Gaussian component *per point*, resulting in an essentially non-parametric estimator of density.\n",
    "In this section, we will explore the motivation and uses of KDE.\n",
    "\n",
    "We begin with the standard imports:"
   ]
  },
  {
   "cell_type": "code",
   "execution_count": 1,
   "metadata": {},
   "outputs": [],
   "source": [
    "%matplotlib inline\n",
    "import matplotlib.pyplot as plt\n",
    "import seaborn as sns; sns.set()\n",
    "import numpy as np"
   ]
  },
  {
   "cell_type": "markdown",
   "metadata": {},
   "source": [
    "## Motivating KDE: Histograms\n",
    "\n",
    "As already discussed, a density estimator is an algorithm which seeks to model the probability distribution that generated a dataset.\n",
    "For one dimensional data, you are probably already familiar with one simple density estimator: the histogram.\n",
    "A histogram divides the data into discrete bins, counts the number of points that fall in each bin, and then visualizes the results in an intuitive manner.\n",
    "\n",
    "For example, let's create some data that is drawn from two normal distributions:"
   ]
  },
  {
   "cell_type": "code",
   "execution_count": 2,
   "metadata": {},
   "outputs": [],
   "source": [
    "def make_data(N, f=0.3, rseed=1):\n",
    "    rand = np.random.RandomState(rseed)\n",
    "    x = rand.randn(N)\n",
    "    x[int(f * N):] += 5\n",
    "    return x\n",
    "\n",
    "x = make_data(1000)"
   ]
  },
  {
   "cell_type": "code",
   "execution_count": 3,
   "metadata": {
    "scrolled": true
   },
   "outputs": [
    {
     "data": {
      "text/plain": [
       "700"
      ]
     },
     "execution_count": 3,
     "metadata": {},
     "output_type": "execute_result"
    }
   ],
   "source": [
    "x1 = np.random.RandomState(1).randn(1000)\n",
    "len(x1[int(0.3 * 1000):])"
   ]
  },
  {
   "cell_type": "markdown",
   "metadata": {},
   "source": [
    "We have previously seen that the standard count-based histogram can be created with the ``plt.hist()`` function.\n",
    "By specifying the ``normed`` parameter of the histogram, we end up with a normalized histogram where the height of the bins does not reflect counts, but instead reflects probability density:"
   ]
  },
  {
   "cell_type": "code",
   "execution_count": 4,
   "metadata": {},
   "outputs": [
    {
     "data": {
      "image/png": "[encoded data removed]",
      "text/plain": [
       "<Figure size 432x288 with 1 Axes>"
      ]
     },
     "metadata": {},
     "output_type": "display_data"
    }
   ],
   "source": [
    "hist = plt.hist(x, bins=30, density=True, edgecolor='black')"
   ]
  },
  {
   "cell_type": "markdown",
   "metadata": {},
   "source": [
    "Notice that **for equal binning, this normalization simply changes the scale on the y-axis, leaving the relative heights essentially the same as in a histogram built from counts.**\n",
    "This normalization is chosen so that the total area under the histogram is equal to 1, as we can confirm by looking at the output of the histogram function:"
   ]
  },
  {
   "cell_type": "code",
   "execution_count": 5,
   "metadata": {},
   "outputs": [
    {
     "data": {
      "text/plain": [
       "(array([0.00510565, 0.00765847, 0.01531695, 0.03829237, 0.06637345,\n",
       "        0.08169039, 0.12764124, 0.13274689, 0.10211299, 0.08679604,\n",
       "        0.04339802, 0.0306339 , 0.0306339 , 0.01786977, 0.04595085,\n",
       "        0.04850367, 0.08424322, 0.17614491, 0.24251836, 0.2986805 ,\n",
       "        0.23230706, 0.26038813, 0.19146186, 0.09445452, 0.0612678 ,\n",
       "        0.01786977, 0.00510565, 0.00255282, 0.00255282, 0.00255282]),\n",
       " array([-2.793085  , -2.40136208, -2.00963915, -1.61791623, -1.22619331,\n",
       "        -0.83447038, -0.44274746, -0.05102454,  0.34069839,  0.73242131,\n",
       "         1.12414423,  1.51586716,  1.90759008,  2.29931301,  2.69103593,\n",
       "         3.08275885,  3.47448178,  3.8662047 ,  4.25792762,  4.64965055,\n",
       "         5.04137347,  5.43309639,  5.82481932,  6.21654224,  6.60826516,\n",
       "         6.99998809,  7.39171101,  7.78343393,  8.17515686,  8.56687978,\n",
       "         8.9586027 ]),\n",
       " <a list of 30 Patch objects>)"
      ]
     },
     "execution_count": 5,
     "metadata": {},
     "output_type": "execute_result"
    }
   ],
   "source": [
    "hist"
   ]
  },
  {
   "cell_type": "code",
   "execution_count": 6,
   "metadata": {},
   "outputs": [
    {
     "data": {
      "text/plain": [
       "1.0"
      ]
     },
     "execution_count": 6,
     "metadata": {},
     "output_type": "execute_result"
    }
   ],
   "source": [
    "density, bins, patches = hist\n",
    "widths = bins[1:] - bins[:-1]\n",
    "(density * widths).sum()"
   ]
  },
  {
   "cell_type": "markdown",
   "metadata": {},
   "source": [
    "One of the issues with using a histogram as a density estimator is that **the choice of bin size and location can lead to representations that have qualitatively different features**.\n",
    "\n",
    "For example, if we look at a version of this data with only 20 points, the choice of how to draw the bins can lead to an entirely different interpretation of the data!\n",
    "Consider this example:"
   ]
  },
  {
   "cell_type": "code",
   "execution_count": 7,
   "metadata": {},
   "outputs": [
    {
     "data": {
      "text/plain": [
       "array([-5.        , -3.33333333, -1.66666667,  0.        ,  1.66666667,\n",
       "        3.33333333,  5.        ,  6.66666667,  8.33333333, 10.        ])"
      ]
     },
     "execution_count": 7,
     "metadata": {},
     "output_type": "execute_result"
    }
   ],
   "source": [
    "x = make_data(20)\n",
    "bins = np.linspace(-5, 10, 10)\n",
    "bins"
   ]
  },
  {
   "cell_type": "code",
   "execution_count": 8,
   "metadata": {},
   "outputs": [
    {
     "name": "stdout",
     "output_type": "stream",
     "text": [
      "Help on function full_like in module numpy:\n",
      "\n",
      "full_like(a, fill_value, dtype=None, order='K', subok=True, shape=None)\n",
      "    Return a full array with the same shape and type as a given array.\n",
      "    \n",
      "    Parameters\n",
      "    ----------\n",
      "    a : array_like\n",
      "        The shape and data-type of `a` define these same attributes of\n",
      "        the returned array.\n",
      "    fill_value : scalar\n",
      "        Fill value.\n",
      "    dtype : data-type, optional\n",
      "        Overrides the data type of the result.\n",
      "    order : {'C', 'F', 'A', or 'K'}, optional\n",
      "        Overrides the memory layout of the result. 'C' means C-order,\n",
      "        'F' means F-order, 'A' means 'F' if `a` is Fortran contiguous,\n",
      "        'C' otherwise. 'K' means match the layout of `a` as closely\n",
      "        as possible.\n",
      "    subok : bool, optional.\n",
      "        If True, then the newly created array will use the sub-class\n",
      "        type of 'a', otherwise it will be a base-class array. Defaults\n",
      "        to True.\n",
      "    shape : int or sequence of ints, optional.\n",
      "        Overrides the shape of the result. If order='K' and the number of\n",
      "        dimensions is unchanged, will try to keep order, otherwise,\n",
      "        order='C' is implied.\n",
      "    \n",
      "        .. versionadded:: 1.17.0\n",
      "    \n",
      "    Returns\n",
      "    -------\n",
      "    out : ndarray\n",
      "        Array of `fill_value` with the same shape and type as `a`.\n",
      "    \n",
      "    See Also\n",
      "    --------\n",
      "    empty_like : Return an empty array with shape and type of input.\n",
      "    ones_like : Return an array of ones with shape and type of input.\n",
      "    zeros_like : Return an array of zeros with shape and type of input.\n",
      "    full : Return a new array of given shape filled with value.\n",
      "    \n",
      "    Examples\n",
      "    --------\n",
      "    >>> x = np.arange(6, dtype=int)\n",
      "    >>> np.full_like(x, 1)\n",
      "    array([1, 1, 1, 1, 1, 1])\n",
      "    >>> np.full_like(x, 0.1)\n",
      "    array([0, 0, 0, 0, 0, 0])\n",
      "    >>> np.full_like(x, 0.1, dtype=np.double)\n",
      "    array([0.1, 0.1, 0.1, 0.1, 0.1, 0.1])\n",
      "    >>> np.full_like(x, np.nan, dtype=np.double)\n",
      "    array([nan, nan, nan, nan, nan, nan])\n",
      "    \n",
      "    >>> y = np.arange(6, dtype=np.double)\n",
      "    >>> np.full_like(y, 0.1)\n",
      "    array([0.1,  0.1,  0.1,  0.1,  0.1,  0.1])\n",
      "\n"
     ]
    }
   ],
   "source": [
    "help(np.full_like)"
   ]
  },
  {
   "cell_type": "code",
   "execution_count": 9,
   "metadata": {},
   "outputs": [
    {
     "data": {
      "text/plain": [
       "array([-4.4       , -2.73333333, -1.06666667,  0.6       ,  2.26666667,\n",
       "        3.93333333,  5.6       ,  7.26666667,  8.93333333, 10.6       ])"
      ]
     },
     "execution_count": 9,
     "metadata": {},
     "output_type": "execute_result"
    }
   ],
   "source": [
    "bins; bins + 0.6"
   ]
  },
  {
   "cell_type": "code",
   "execution_count": 10,
   "metadata": {},
   "outputs": [
    {
     "data": {
      "image/png": "[encoded data removed]",
      "text/plain": [
       "<Figure size 864x288 with 2 Axes>"
      ]
     },
     "metadata": {},
     "output_type": "display_data"
    }
   ],
   "source": [
    "fig, ax = plt.subplots(1, 2, figsize=(12, 4),\n",
    "                       sharex=True, sharey=True,\n",
    "                       subplot_kw={'xlim':(-4, 9),\n",
    "                                   'ylim':(-0.02, 0.3)})\n",
    "fig.subplots_adjust(wspace=0.05)\n",
    "for i, offset in enumerate([0.0, 0.6]):\n",
    "    ax[i].hist(x, bins=bins + offset, density=True)\n",
    "    ax[i].plot(x, np.full_like(x, -0.01), '|k',\n",
    "               markeredgewidth=1)"
   ]
  },
  {
   "cell_type": "markdown",
   "metadata": {},
   "source": [
    "On the left, the histogram makes clear that this is a bimodal distribution.\n",
    "On the right, we see a unimodal distribution with a long tail.\n",
    "Without seeing the preceding code, you would probably not guess that these two histograms were built from the same data: with that in mind, how can you trust the intuition that histograms confer?\n",
    "And how might we improve on this?\n",
    "\n",
    "Stepping back, we can think of a histogram as a stack of blocks, where we stack one block within each bin on top of each point in the dataset.\n",
    "Let's view this directly:"
   ]
  },
  {
   "cell_type": "code",
   "execution_count": 11,
   "metadata": {},
   "outputs": [
    {
     "data": {
      "image/png": "[encoded data removed]",
      "text/plain": [
       "<Figure size 432x288 with 1 Axes>"
      ]
     },
     "metadata": {},
     "output_type": "display_data"
    }
   ],
   "source": [
    "fig, ax = plt.subplots()\n",
    "bins = np.arange(-3, 8)\n",
    "ax.plot(x, np.full_like(x, -0.1), '|k',\n",
    "        markeredgewidth=1)\n",
    "for count, edge in zip(*np.histogram(x, bins)):\n",
    "    for i in range(count):\n",
    "        ax.add_patch(plt.Rectangle((edge, i), 1, 1,\n",
    "                                   alpha=0.5))\n",
    "ax.set_xlim(-4, 8)\n",
    "ax.set_ylim(-0.2, 8);"
   ]
  },
  {
   "cell_type": "markdown",
   "metadata": {},
   "source": [
    "The problem with our two binnings stems from the fact that the height of the block stack often reflects not on the actual density of points nearby, but on coincidences of how the bins align with the data points.\n",
    "**This mis-alignment between points and their blocks is a potential cause of the poor histogram results seen here.\n",
    "But what if, instead of stacking the blocks aligned with the *bins*, we were to stack the blocks aligned with the *points they represent*?**\n",
    "\n",
    "If we do this, the blocks won't be aligned, but we can add their contributions at each location along the x-axis to find the result.\n",
    "\n",
    "Let's try this:"
   ]
  },
  {
   "cell_type": "code",
   "execution_count": 12,
   "metadata": {},
   "outputs": [
    {
     "data": {
      "image/png": "[encoded data removed]",
      "text/plain": [
       "<Figure size 432x288 with 1 Axes>"
      ]
     },
     "metadata": {},
     "output_type": "display_data"
    }
   ],
   "source": [
    "x_d = np.linspace(-4, 8, 2000)\n",
    "density = sum((abs(xi - x_d) < 0.5) for xi in x)\n",
    "\n",
    "plt.fill_between(x_d, density, alpha=0.5)\n",
    "plt.plot(x, np.full_like(x, -0.1), '|k', markeredgewidth=1)\n",
    "\n",
    "plt.axis([-4, 8, -0.2, 8]);"
   ]
  },
  {
   "cell_type": "code",
   "execution_count": 13,
   "metadata": {},
   "outputs": [
    {
     "data": {
      "text/plain": [
       "array([0, 0, 0, ..., 0, 0, 0])"
      ]
     },
     "execution_count": 13,
     "metadata": {},
     "output_type": "execute_result"
    }
   ],
   "source": [
    "density"
   ]
  },
  {
   "cell_type": "markdown",
   "metadata": {},
   "source": [
    "The result looks a bit messy, but is a much more robust reflection of the actual data characteristics than is the standard histogram.\n",
    "\n",
    "Still, the rough edges are not aesthetically pleasing, nor are they reflective of any true properties of the data.\n",
    "In order to smooth them out, we might decide to replace the blocks at each location with a smooth function, like a Gaussian.\n",
    "\n",
    "Let's use a standard normal curve at each point instead of a block:"
   ]
  },
  {
   "cell_type": "code",
   "execution_count": 14,
   "metadata": {},
   "outputs": [
    {
     "data": {
      "image/png": "[encoded data removed]",
      "text/plain": [
       "<Figure size 432x288 with 1 Axes>"
      ]
     },
     "metadata": {},
     "output_type": "display_data"
    }
   ],
   "source": [
    "from scipy.stats import norm\n",
    "x_d = np.linspace(-4, 8, 1000)\n",
    "density = sum(norm(xi).pdf(x_d) for xi in x)\n",
    "\n",
    "plt.fill_between(x_d, density, alpha=0.5)\n",
    "plt.plot(x, np.full_like(x, -0.1), '|k', markeredgewidth=1)\n",
    "\n",
    "plt.axis([-4, 8, -0.2, 5]);"
   ]
  },
  {
   "cell_type": "code",
   "execution_count": 15,
   "metadata": {},
   "outputs": [
    {
     "data": {
      "text/plain": [
       "array([0.10204508, 0.10427244, 0.10653518, 0.10883352, 0.1111677 ,\n",
       "       0.11353792, 0.1159444 , 0.11838736, 0.12086699, 0.12338348,\n",
       "       0.12593703, 0.12852782, 0.13115602, 0.13382179, 0.1365253 ,\n",
       "       0.13926671, 0.14204615, 0.14486377, 0.14771969, 0.15061405,\n",
       "       0.15354696, 0.15651853, 0.15952885, 0.16257803, 0.16566615,\n",
       "       0.16879328, 0.1719595 , 0.17516487, 0.17840944, 0.18169327,\n",
       "       0.18501638, 0.18837881, 0.19178059, 0.19522172, 0.19870222,\n",
       "       0.20222208, 0.2057813 , 0.20937986, 0.21301773, 0.21669488,\n",
       "       0.22041128, 0.22416687, 0.2279616 , 0.2317954 , 0.23566822,\n",
       "       0.23957996, 0.24353055, 0.24751989, 0.25154788, 0.25561442,\n",
       "       0.2597194 , 0.26386268, 0.26804416, 0.27226368, 0.27652112,\n",
       "       0.28081633, 0.28514915, 0.28951942, 0.29392698, 0.29837166,\n",
       "       0.30285328, 0.30737167, 0.31192662, 0.31651795, 0.32114546,\n",
       "       0.32580895, 0.33050821, 0.33524302, 0.34001317, 0.34481844,\n",
       "       0.34965859, 0.3545334 , 0.35944264, 0.36438606, 0.36936342,\n",
       "       0.37437448, 0.37941898, 0.38449668, 0.38960731, 0.39475063,\n",
       "       0.39992636, 0.40513424, 0.41037401, 0.41564539, 0.42094811,\n",
       "       0.4262819 , 0.43164647, 0.43704156, 0.44246688, 0.44792214,\n",
       "       0.45340706, 0.45892135, 0.46446473, 0.4700369 , 0.47563757,\n",
       "       0.48126645, 0.48692324, 0.49260764, 0.49831937, 0.50405811,\n",
       "       0.50982356, 0.51561543, 0.52143341, 0.52727719, 0.53314647,\n",
       "       0.53904093, 0.54496027, 0.55090417, 0.55687233, 0.56286441,\n",
       "       0.56888012, 0.57491912, 0.58098109, 0.58706572, 0.59317267,\n",
       "       0.59930161, 0.60545222, 0.61162416, 0.61781709, 0.62403067,\n",
       "       0.63026456, 0.63651842, 0.64279188, 0.6490846 , 0.65539622,\n",
       "       0.66172638, 0.6680747 , 0.67444082, 0.68082435, 0.68722493,\n",
       "       0.69364215, 0.70007563, 0.70652497, 0.71298976, 0.71946959,\n",
       "       0.72596404, 0.73247269, 0.7389951 , 0.74553084, 0.75207944,\n",
       "       0.75864047, 0.76521345, 0.77179791, 0.77839336, 0.78499932,\n",
       "       0.79161529, 0.79824075, 0.80487518, 0.81151805, 0.81816881,\n",
       "       0.82482692, 0.83149181, 0.83816291, 0.84483962, 0.85152134,\n",
       "       0.85820748, 0.86489739, 0.87159044, 0.878286  , 0.88498338,\n",
       "       0.89168192, 0.89838092, 0.90507969, 0.9117775 , 0.91847364,\n",
       "       0.92516734, 0.93185786, 0.93854442, 0.94522623, 0.9519025 ,\n",
       "       0.9585724 , 0.9652351 , 0.97188977, 0.97853554, 0.98517154,\n",
       "       0.99179687, 0.99841064, 1.00501193, 1.01159981, 1.01817333,\n",
       "       1.02473153, 1.03127344, 1.03779808, 1.04430443, 1.05079149,\n",
       "       1.05725823, 1.06370362, 1.07012658, 1.07652608, 1.08290102,\n",
       "       1.08925031, 1.09557287, 1.10186757, 1.10813331, 1.11436894,\n",
       "       1.12057332, 1.12674532, 1.13288376, 1.13898749, 1.14505533,\n",
       "       1.1510861 , 1.15707861, 1.16303168, 1.16894409, 1.17481465,\n",
       "       1.18064216, 1.1864254 , 1.19216316, 1.19785422, 1.20349737,\n",
       "       1.2090914 , 1.21463509, 1.22012721, 1.22556657, 1.23095195,\n",
       "       1.23628214, 1.24155594, 1.24677216, 1.25192959, 1.25702706,\n",
       "       1.26206339, 1.2670374 , 1.27194795, 1.27679387, 1.28157403,\n",
       "       1.2862873 , 1.29093258, 1.29550875, 1.30001473, 1.30444945,\n",
       "       1.30881186, 1.31310092, 1.31731561, 1.32145493, 1.3255179 ,\n",
       "       1.32950355, 1.33341096, 1.3372392 , 1.34098738, 1.34465463,\n",
       "       1.3482401 , 1.35174298, 1.35516248, 1.35849782, 1.36174827,\n",
       "       1.36491313, 1.3679917 , 1.37098334, 1.37388743, 1.37670337,\n",
       "       1.37943063, 1.38206866, 1.38461697, 1.38707512, 1.38944268,\n",
       "       1.39171925, 1.39390449, 1.39599807, 1.39799972, 1.39990918,\n",
       "       1.40172625, 1.40345077, 1.40508258, 1.40662161, 1.40806778,\n",
       "       1.40942108, 1.41068153, 1.41184918, 1.41292413, 1.41390652,\n",
       "       1.41479651, 1.41559432, 1.41630019, 1.41691443, 1.41743735,\n",
       "       1.41786932, 1.41821075, 1.41846209, 1.4186238 , 1.41869641,\n",
       "       1.41868048, 1.4185766 , 1.41838541, 1.41810756, 1.41774376,\n",
       "       1.41729474, 1.41676129, 1.41614421, 1.41544434, 1.41466256,\n",
       "       1.41379977, 1.41285692, 1.41183497, 1.41073493, 1.40955783,\n",
       "       1.40830473, 1.40697673, 1.40557494, 1.4041005 , 1.40255459,\n",
       "       1.40093841, 1.39925317, 1.39750012, 1.39568053, 1.39379569,\n",
       "       1.39184689, 1.38983548, 1.3877628 , 1.38563022, 1.38343911,\n",
       "       1.38119088, 1.37888694, 1.3765287 , 1.37411762, 1.37165514,\n",
       "       1.36914272, 1.36658182, 1.36397393, 1.36132053, 1.35862312,\n",
       "       1.35588318, 1.35310221, 1.35028172, 1.34742321, 1.34452819,\n",
       "       1.34159816, 1.33863462, 1.33563907, 1.33261302, 1.32955794,\n",
       "       1.32647534, 1.32336668, 1.32023344, 1.31707709, 1.31389908,\n",
       "       1.31070086, 1.30748386, 1.30424949, 1.30099917, 1.2977343 ,\n",
       "       1.29445624, 1.29116637, 1.28786604, 1.28455657, 1.28123927,\n",
       "       1.27791545, 1.27458637, 1.27125329, 1.26791745, 1.26458006,\n",
       "       1.26124232, 1.25790539, 1.25457042, 1.25123854, 1.24791084,\n",
       "       1.24458841, 1.2412723 , 1.23796354, 1.23466312, 1.23137203,\n",
       "       1.22809122, 1.22482163, 1.22156413, 1.21831963, 1.21508895,\n",
       "       1.21187294, 1.20867237, 1.20548803, 1.20232066, 1.19917097,\n",
       "       1.19603965, 1.19292739, 1.1898348 , 1.18676251, 1.18371111,\n",
       "       1.18068116, 1.1776732 , 1.17468775, 1.17172529, 1.16878629,\n",
       "       1.1658712 , 1.16298043, 1.16011438, 1.15727343, 1.15445793,\n",
       "       1.15166821, 1.14890458, 1.14616734, 1.14345676, 1.14077309,\n",
       "       1.13811656, 1.1354874 , 1.1328858 , 1.13031196, 1.12776603,\n",
       "       1.12524818, 1.12275854, 1.12029725, 1.11786441, 1.11546013,\n",
       "       1.11308451, 1.11073763, 1.10841956, 1.10613036, 1.1038701 ,\n",
       "       1.10163882, 1.09943658, 1.0972634 , 1.09511933, 1.0930044 ,\n",
       "       1.09091864, 1.08886208, 1.08683474, 1.08483667, 1.08286788,\n",
       "       1.0809284 , 1.07901828, 1.07713755, 1.07528625, 1.07346443,\n",
       "       1.07167215, 1.06990946, 1.06817644, 1.06647316, 1.0647997 ,\n",
       "       1.06315618, 1.06154269, 1.05995935, 1.0584063 , 1.05688368,\n",
       "       1.05539166, 1.0539304 , 1.05250009, 1.05110095, 1.04973318,\n",
       "       1.04839704, 1.04709278, 1.04582067, 1.04458101, 1.04337412,\n",
       "       1.04220032, 1.04105997, 1.03995345, 1.03888116, 1.03784351,\n",
       "       1.03684095, 1.03587393, 1.03494296, 1.03404854, 1.0331912 ,\n",
       "       1.03237151, 1.03159005, 1.03084742, 1.03014427, 1.02948124,\n",
       "       1.02885902, 1.02827833, 1.02773989, 1.02724447, 1.02679284,\n",
       "       1.02638584, 1.02602428, 1.02570903, 1.02544098, 1.02522105,\n",
       "       1.02505018, 1.02492933, 1.02485949, 1.02484167, 1.02487693,\n",
       "       1.02496631, 1.02511092, 1.02531187, 1.02557029, 1.02588735,\n",
       "       1.02626424, 1.02670215, 1.02720233, 1.02776602, 1.02839451,\n",
       "       1.02908907, 1.02985105, 1.03068176, 1.03158257, 1.03255486,\n",
       "       1.03360002, 1.03471946, 1.03591463, 1.03718695, 1.03853791,\n",
       "       1.03996898, 1.04148166, 1.04307745, 1.04475789, 1.04652451,\n",
       "       1.04837885, 1.05032249, 1.05235698, 1.05448393, 1.0567049 ,\n",
       "       1.05902151, 1.06143537, 1.06394807, 1.06656125, 1.06927653,\n",
       "       1.07209554, 1.0750199 , 1.07805126, 1.08119125, 1.0844415 ,\n",
       "       1.08780365, 1.09127933, 1.09487018, 1.09857783, 1.10240389,\n",
       "       1.10634999, 1.11041774, 1.11460874, 1.11892459, 1.12336688,\n",
       "       1.12793719, 1.13263707, 1.13746809, 1.14243178, 1.14752967,\n",
       "       1.15276327, 1.15813407, 1.16364355, 1.16929315, 1.17508433,\n",
       "       1.18101849, 1.18709703, 1.19332132, 1.19969271, 1.20621252,\n",
       "       1.21288204, 1.21970254, 1.22667526, 1.23380141, 1.24108218,\n",
       "       1.2485187 , 1.25611209, 1.26386345, 1.2717738 , 1.27984417,\n",
       "       1.28807553, 1.29646881, 1.30502491, 1.31374469, 1.32262896,\n",
       "       1.33167851, 1.34089405, 1.35027628, 1.35982583, 1.36954331,\n",
       "       1.37942926, 1.38948419, 1.39970854, 1.41010271, 1.42066707,\n",
       "       1.4314019 , 1.44230745, 1.45338392, 1.46463144, 1.4760501 ,\n",
       "       1.48763992, 1.49940088, 1.51133289, 1.52343579, 1.53570939,\n",
       "       1.54815342, 1.56076755, 1.5735514 , 1.5865045 , 1.59962636,\n",
       "       1.61291639, 1.62637395, 1.63999833, 1.65378877, 1.66774442,\n",
       "       1.68186438, 1.69614768, 1.71059329, 1.72520009, 1.7399669 ,\n",
       "       1.7548925 , 1.76997556, 1.7852147 , 1.80060847, 1.81615535,\n",
       "       1.83185374, 1.84770199, 1.86369836, 1.87984105, 1.89612818,\n",
       "       1.91255781, 1.92912793, 1.94583643, 1.96268118, 1.97965994,\n",
       "       1.9967704 , 2.01401021, 2.03137692, 2.04886802, 2.06648094,\n",
       "       2.08421302, 2.10206155, 2.12002374, 2.13809673, 2.15627762,\n",
       "       2.1745634 , 2.19295102, 2.21143737, 2.23001925, 2.24869341,\n",
       "       2.26745654, 2.28630527, 2.30523615, 2.32424568, 2.3433303 ,\n",
       "       2.36248639, 2.38171027, 2.40099821, 2.42034641, 2.43975102,\n",
       "       2.45920815, 2.47871384, 2.49826409, 2.51785483, 2.53748197,\n",
       "       2.55714135, 2.57682878, 2.59654001, 2.61627077, 2.63601671,\n",
       "       2.65577348, 2.67553668, 2.69530185, 2.71506453, 2.73482021,\n",
       "       2.75456434, 2.77429235, 2.79399966, 2.81368162, 2.8333336 ,\n",
       "       2.85295093, 2.87252891, 2.89206283, 2.91154797, 2.9309796 ,\n",
       "       2.95035295, 2.96966327, 2.98890579, 3.00807573, 3.02716831,\n",
       "       3.04617875, 3.06510227, 3.08393409, 3.10266944, 3.12130355,\n",
       "       3.13983165, 3.15824902, 3.1765509 , 3.19473259, 3.21278939,\n",
       "       3.23071661, 3.24850959, 3.26616372, 3.28367438, 3.30103698,\n",
       "       3.318247  , 3.33529992, 3.35219125, 3.36891656, 3.38547146,\n",
       "       3.40185158, 3.41805261, 3.43407028, 3.44990038, 3.46553873,\n",
       "       3.48098123, 3.4962238 , 3.51126245, 3.52609322, 3.54071224,\n",
       "       3.55511566, 3.56929974, 3.58326078, 3.59699514, 3.61049928,\n",
       "       3.6237697 , 3.63680299, 3.6495958 , 3.66214488, 3.67444703,\n",
       "       3.68649915, 3.69829821, 3.70984125, 3.72112542, 3.73214793,\n",
       "       3.7429061 , 3.75339731, 3.76361905, 3.77356887, 3.78324445,\n",
       "       3.79264353, 3.80176395, 3.81060364, 3.81916064, 3.82743307,\n",
       "       3.83541913, 3.84311714, 3.85052552, 3.85764275, 3.86446745,\n",
       "       3.8709983 , 3.87723411, 3.88317376, 3.88881625, 3.89416066,\n",
       "       3.89920618, 3.90395209, 3.90839778, 3.91254271, 3.91638647,\n",
       "       3.91992874, 3.92316927, 3.92610795, 3.92874472, 3.93107964,\n",
       "       3.93311288, 3.93484468, 3.93627536, 3.93740538, 3.93823525,\n",
       "       3.93876559, 3.9389971 , 3.93893058, 3.93856691, 3.93790706,\n",
       "       3.93695209, 3.93570314, 3.93416142, 3.93232825, 3.93020501,\n",
       "       3.92779317, 3.92509427, 3.92210993, 3.91884185, 3.91529179,\n",
       "       3.91146161, 3.9073532 , 3.90296855, 3.8983097 , 3.89337878,\n",
       "       3.88817795, 3.88270945, 3.87697558, 3.8709787 , 3.86472122,\n",
       "       3.85820561, 3.85143439, 3.84441012, 3.83713543, 3.82961299,\n",
       "       3.8218455 , 3.81383573, 3.80558647, 3.79710055, 3.78838085,\n",
       "       3.77943028, 3.77025179, 3.76084833, 3.75122292, 3.7413786 ,\n",
       "       3.73131841, 3.72104543, 3.71056278, 3.69987357, 3.68898095,\n",
       "       3.67788806, 3.66659809, 3.65511422, 3.64343963, 3.63157755,\n",
       "       3.61953117, 3.60730372, 3.59489842, 3.58231848, 3.56956714,\n",
       "       3.55664761, 3.54356312, 3.53031688, 3.51691209, 3.50335197,\n",
       "       3.48963969, 3.47577846, 3.46177143, 3.44762176, 3.43333261,\n",
       "       3.41890709, 3.40434832, 3.38965939, 3.37484338, 3.35990334,\n",
       "       3.3448423 , 3.32966328, 3.31436925, 3.29896319, 3.28344803,\n",
       "       3.26782668, 3.25210202, 3.23627692, 3.2203542 , 3.20433667,\n",
       "       3.18822708, 3.17202819, 3.15574271, 3.13937331, 3.12292263,\n",
       "       3.1063933 , 3.0897879 , 3.07310897, 3.05635904, 3.03954058,\n",
       "       3.02265606, 3.00570788, 2.98869842, 2.97163005, 2.95450508,\n",
       "       2.93732578, 2.92009441, 2.90281318, 2.88548428, 2.86810985,\n",
       "       2.85069201, 2.83323284, 2.81573439, 2.79819868, 2.7806277 ,\n",
       "       2.76302339, 2.74538769, 2.72772249, 2.71002963, 2.69231097,\n",
       "       2.67456829, 2.65680338, 2.63901797, 2.62121378, 2.6033925 ,\n",
       "       2.58555579, 2.56770528, 2.54984259, 2.5319693 , 2.51408697,\n",
       "       2.49619713, 2.4783013 , 2.46040097, 2.4424976 , 2.42459263,\n",
       "       2.4066875 , 2.38878361, 2.37088235, 2.35298508, 2.33509315,\n",
       "       2.3172079 , 2.29933064, 2.28146266, 2.26360526, 2.2457597 ,\n",
       "       2.22792724, 2.21010911, 2.19230655, 2.17452077, 2.15675298,\n",
       "       2.13900437, 2.12127613, 2.10356943, 2.08588542, 2.06822528,\n",
       "       2.05059014, 2.03298114, 2.01539942, 1.9978461 , 1.98032231,\n",
       "       1.96282915, 1.94536773, 1.92793915, 1.91054453, 1.89318494,\n",
       "       1.87586147, 1.85857523, 1.84132728, 1.82411871, 1.80695059,\n",
       "       1.789824  , 1.77274002, 1.75569971, 1.73870415, 1.72175439,\n",
       "       1.7048515 , 1.68799656, 1.67119061, 1.65443472, 1.63772995,\n",
       "       1.62107736, 1.604478  , 1.58793293, 1.57144319, 1.55500986,\n",
       "       1.53863396, 1.52231656, 1.50605869, 1.48986141, 1.47372576,\n",
       "       1.45765277, 1.44164349, 1.42569895, 1.40982018, 1.3940082 ,\n",
       "       1.37826406, 1.36258876, 1.34698332, 1.33144876, 1.31598609,\n",
       "       1.3005963 , 1.2852804 , 1.27003938, 1.25487422, 1.23978591,\n",
       "       1.22477541, 1.20984369, 1.19499171, 1.18022042, 1.16553076,\n",
       "       1.15092365, 1.13640003, 1.12196081, 1.10760688, 1.09333915,\n",
       "       1.07915848, 1.06506575, 1.05106183, 1.03714754, 1.02332372,\n",
       "       1.0095912 , 0.99595078, 0.98240324, 0.96894936, 0.95558991,\n",
       "       0.94232563, 0.92915725, 0.91608548, 0.90311102, 0.89023455,\n",
       "       0.87745673, 0.86477821, 0.8521996 , 0.83972153, 0.82734457,\n",
       "       0.8150693 , 0.80289627, 0.790826  , 0.77885901, 0.76699578,\n",
       "       0.75523679, 0.74358248, 0.73203327, 0.72058958, 0.70925178,\n",
       "       0.69802023, 0.68689528, 0.67587723, 0.66496639, 0.65416302,\n",
       "       0.64346738, 0.63287968, 0.62240012, 0.6120289 , 0.60176616,\n",
       "       0.59161203, 0.58156662, 0.57163003, 0.5618023 , 0.55208349,\n",
       "       0.5424736 , 0.53297262, 0.52358053, 0.51429728, 0.50512277,\n",
       "       0.49605691, 0.48709959, 0.47825064, 0.4695099 , 0.46087718,\n",
       "       0.45235227, 0.44393492, 0.43562488, 0.42742186, 0.41932557])"
      ]
     },
     "execution_count": 15,
     "metadata": {},
     "output_type": "execute_result"
    }
   ],
   "source": [
    "density"
   ]
  },
  {
   "cell_type": "markdown",
   "metadata": {},
   "source": [
    "This smoothed-out plot, with a Gaussian distribution contributed at the location of each input point, gives a much more accurate idea of the shape of the data distribution, and one which has much less variance (i.e., changes much less in response to differences in sampling).\n",
    "\n",
    "These last two plots are examples of kernel density estimation in one dimension: the first uses a so-called **\"tophat\" kernel** and the second uses **a Gaussian kernel**.\n",
    "\n",
    "We'll now look at kernel density estimation in more detail."
   ]
  },
  {
   "cell_type": "markdown",
   "metadata": {},
   "source": [
    "## Kernel Density Estimation in Practice\n",
    "\n",
    "The free parameters of kernel density estimation are the *kernel*, which specifies the shape of the distribution placed at each point, and the *kernel bandwidth*, which controls the size of the kernel at each point.\n",
    "\n",
    "***Kernel*** determines the estimation weights.\n",
    "\n",
    "In practice, there are many kernels you might use for a kernel density estimation: in particular, the Scikit-Learn KDE implementation supports one of six kernels, which you can read about in Scikit-Learn's [Density Estimation documentation](http://scikit-learn.org/stable/modules/density.html).\n",
    "\n",
    "While there are several versions of kernel density estimation implemented in Python (notably in the SciPy and StatsModels packages), I prefer to use Scikit-Learn's version because of its efficiency and flexibility.\n",
    "It is implemented in the ``sklearn.neighbors.KernelDensity`` estimator, which handles KDE in multiple dimensions with one of six kernels and one of a couple dozen distance metrics.\n",
    "Because KDE can be fairly computationally intensive, the Scikit-Learn estimator uses a tree-based algorithm under the hood and can trade off computation time for accuracy using the ``atol`` (absolute tolerance) and ``rtol`` (relative tolerance) parameters.\n",
    "\n",
    "**The kernel bandwidth, which is a free parameter, can be determined using Scikit-Learn's standard cross validation tools as we will soon see.**\n",
    "\n",
    "Let's first show a simple example of replicating the above plot using the Scikit-Learn ``KernelDensity`` estimator:"
   ]
  },
  {
   "cell_type": "markdown",
   "metadata": {},
   "source": [
    "Play with the `bandwidth` parameter to see how the KDE works."
   ]
  },
  {
   "cell_type": "code",
   "execution_count": 16,
   "metadata": {},
   "outputs": [
    {
     "data": {
      "text/plain": [
       "array([ 1.62434536, -0.61175641, -0.52817175, -1.07296862,  0.86540763,\n",
       "       -2.3015387 ,  6.74481176,  4.2387931 ,  5.3190391 ,  4.75062962,\n",
       "        6.46210794,  2.93985929,  4.6775828 ,  4.61594565,  6.13376944,\n",
       "        3.90010873,  4.82757179,  4.12214158,  5.04221375,  5.58281521])"
      ]
     },
     "execution_count": 16,
     "metadata": {},
     "output_type": "execute_result"
    }
   ],
   "source": [
    "x[:None]"
   ]
  },
  {
   "cell_type": "code",
   "execution_count": 17,
   "metadata": {},
   "outputs": [
    {
     "data": {
      "image/png": "[encoded data removed]",
      "text/plain": [
       "<Figure size 432x288 with 1 Axes>"
      ]
     },
     "metadata": {},
     "output_type": "display_data"
    }
   ],
   "source": [
    "from sklearn.neighbors import KernelDensity\n",
    "\n",
    "# instantiate and fit the KDE model\n",
    "kde = KernelDensity(bandwidth=1.0, kernel='gaussian')\n",
    "kde.fit(x[:, None])\n",
    "\n",
    "# score_samples returns the log of the probability density\n",
    "logprob = kde.score_samples(x_d[:, None])\n",
    "\n",
    "plt.fill_between(x_d, np.exp(logprob), alpha=0.5)\n",
    "plt.plot(x, np.full_like(x, -0.01), '|k', markeredgewidth=1)\n",
    "plt.ylim(-0.02, 0.22);"
   ]
  },
  {
   "cell_type": "markdown",
   "metadata": {},
   "source": [
    "The result here is normalized such that the area under the curve is equal to 1."
   ]
  },
  {
   "cell_type": "markdown",
   "metadata": {},
   "source": [
    "### Selecting the bandwidth via cross-validation\n",
    "\n",
    "The choice of bandwidth within KDE is extremely important to finding a suitable density estimate, and is the knob that controls the bias–variance trade-off in the estimate of density: **too narrow a bandwidth leads to a high-variance estimate (i.e., over-fitting), where the presence or absence of a single point makes a large difference. Too wide a bandwidth leads to a high-bias estimate (i.e., under-fitting) where the structure in the data is washed out by the wide kernel.**\n",
    "\n",
    "There is a long history in statistics of methods to quickly estimate the best bandwidth based on rather stringent assumptions about the data: if you look up the KDE implementations in the SciPy and StatsModels packages, for example, you will see implementations based on some of these rules.\n",
    "\n",
    "In machine learning contexts, we've seen that such hyperparameter tuning often is done empirically via a cross-validation approach.\n",
    "With this in mind, the ``KernelDensity`` estimator in Scikit-Learn is designed such that it can be used directly within the Scikit-Learn's standard grid search tools.\n",
    "Here we will use ``GridSearchCV`` to optimize the bandwidth for the preceding dataset.\n",
    "Because we are looking at such a small dataset, we will use **leave-one-out cross-validation**, which minimizes the reduction in training set size for each cross-validation trial:"
   ]
  },
  {
   "cell_type": "code",
   "execution_count": 18,
   "metadata": {},
   "outputs": [],
   "source": [
    "from sklearn.model_selection import GridSearchCV, LeaveOneOut\n",
    "\n",
    "bandwidths = 10 ** np.linspace(-1, 1, 100)\n",
    "grid = GridSearchCV(KernelDensity(kernel='gaussian'),\n",
    "                    {'bandwidth': bandwidths},\n",
    "                    cv=LeaveOneOut())\n",
    "grid.fit(x[:, None]);"
   ]
  },
  {
   "cell_type": "code",
   "execution_count": 19,
   "metadata": {},
   "outputs": [
    {
     "data": {
      "text/plain": [
       "array([ 0.1       ,  0.10476158,  0.10974988,  0.1149757 ,  0.12045035,\n",
       "        0.12618569,  0.13219411,  0.13848864,  0.14508288,  0.15199111,\n",
       "        0.15922828,  0.16681005,  0.17475284,  0.18307383,  0.19179103,\n",
       "        0.2009233 ,  0.21049041,  0.22051307,  0.23101297,  0.24201283,\n",
       "        0.25353645,  0.26560878,  0.27825594,  0.29150531,  0.30538555,\n",
       "        0.31992671,  0.33516027,  0.35111917,  0.36783798,  0.38535286,\n",
       "        0.40370173,  0.42292429,  0.44306215,  0.46415888,  0.48626016,\n",
       "        0.5094138 ,  0.53366992,  0.55908102,  0.58570208,  0.61359073,\n",
       "        0.64280731,  0.67341507,  0.70548023,  0.7390722 ,  0.77426368,\n",
       "        0.81113083,  0.84975344,  0.89021509,  0.93260335,  0.97700996,\n",
       "        1.02353102,  1.07226722,  1.12332403,  1.17681195,  1.23284674,\n",
       "        1.29154967,  1.35304777,  1.41747416,  1.48496826,  1.55567614,\n",
       "        1.62975083,  1.70735265,  1.78864953,  1.87381742,  1.96304065,\n",
       "        2.05651231,  2.15443469,  2.25701972,  2.36448941,  2.47707636,\n",
       "        2.59502421,  2.71858824,  2.84803587,  2.98364724,  3.12571585,\n",
       "        3.27454916,  3.43046929,  3.59381366,  3.76493581,  3.94420606,\n",
       "        4.1320124 ,  4.32876128,  4.53487851,  4.75081016,  4.97702356,\n",
       "        5.21400829,  5.46227722,  5.72236766,  5.9948425 ,  6.28029144,\n",
       "        6.57933225,  6.8926121 ,  7.22080902,  7.56463328,  7.92482898,\n",
       "        8.30217568,  8.69749003,  9.11162756,  9.54548457, 10.        ])"
      ]
     },
     "execution_count": 19,
     "metadata": {},
     "output_type": "execute_result"
    }
   ],
   "source": [
    "bandwidths"
   ]
  },
  {
   "cell_type": "markdown",
   "metadata": {},
   "source": [
    "Now we can find **the choice of bandwidth which maximizes the score** (which in this case defaults to the log-likelihood):"
   ]
  },
  {
   "cell_type": "code",
   "execution_count": 20,
   "metadata": {},
   "outputs": [
    {
     "data": {
      "text/plain": [
       "{'bandwidth': 1.1233240329780276}"
      ]
     },
     "execution_count": 20,
     "metadata": {},
     "output_type": "execute_result"
    }
   ],
   "source": [
    "grid.best_params_"
   ]
  },
  {
   "cell_type": "markdown",
   "metadata": {},
   "source": [
    "The optimal bandwidth happens to be very close to what we used in the example plot earlier, where the bandwidth was 1.0 (i.e., the default width of ``scipy.stats.norm``)."
   ]
  },
  {
   "cell_type": "code",
   "execution_count": 21,
   "metadata": {},
   "outputs": [
    {
     "data": {
      "image/png": "[encoded data removed]",
      "text/plain": [
       "<Figure size 432x288 with 1 Axes>"
      ]
     },
     "metadata": {},
     "output_type": "display_data"
    }
   ],
   "source": [
    "# instantiate and fit the KDE model\n",
    "opt_bandwidth = grid.best_params_['bandwidth']\n",
    "kde = KernelDensity(bandwidth=opt_bandwidth, kernel='gaussian')\n",
    "kde.fit(x[:, None])\n",
    "\n",
    "# score_samples returns the log of the probability density\n",
    "logprob = kde.score_samples(x_d[:, None])\n",
    "\n",
    "plt.fill_between(x_d, np.exp(logprob), alpha=0.5)\n",
    "plt.plot(x, np.full_like(x, -0.01), '|k', markeredgewidth=1)\n",
    "# plt.ylim(-0.02, 0.22)\n",
    "plt.show();"
   ]
  },
  {
   "cell_type": "markdown",
   "metadata": {},
   "source": [
    "## Example: KDE on a Sphere\n",
    "\n",
    "Perhaps the most common use of KDE is in graphically representing distributions of points.\n",
    "For example, in the Seaborn visualization library (see [Visualization With Seaborn](04.14-Visualization-With-Seaborn.ipynb)), KDE is built in and automatically used to help visualize points in one and two dimensions.\n",
    "\n",
    "Here we will look at a slightly more sophisticated use of KDE for visualization of distributions.\n",
    "We will make use of some geographic data that can be loaded with Scikit-Learn: the geographic distributions of recorded observations of two South American mammals, *Bradypus variegatus* (the Brown-throated Sloth) and *Microryzomys minutus* (the Forest Small Rice Rat).\n",
    "\n",
    "With Scikit-Learn, we can fetch this data as follows:"
   ]
  },
  {
   "cell_type": "code",
   "execution_count": 22,
   "metadata": {},
   "outputs": [],
   "source": [
    "from sklearn.datasets import fetch_species_distributions\n",
    "\n",
    "data = fetch_species_distributions()\n",
    "\n",
    "# Get matrices/arrays of species IDs and locations\n",
    "latlon = np.vstack([data.train['dd lat'],\n",
    "                    data.train['dd long']]).T\n",
    "species = np.array([d.decode('ascii').startswith('micro')\n",
    "                    for d in data.train['species']], dtype='int')"
   ]
  },
  {
   "cell_type": "markdown",
   "metadata": {},
   "source": [
    "With this data loaded, we can use **the Basemap toolkit** (mentioned previously in [Geographic Data with Basemap](04.13-Geographic-Data-With-Basemap.ipynb)) to plot the observed locations of these two species on the map of South America."
   ]
  },
  {
   "cell_type": "markdown",
   "metadata": {},
   "source": [
    "**DO NOT RUN THIS CELL. THERE IS A PROBLEM WITH `Basemap`**\n",
    "\n",
    "# Refer to the notebook in the upstream branch"
   ]
  },
  {
   "cell_type": "code",
   "execution_count": 23,
   "metadata": {},
   "outputs": [
    {
     "name": "stdout",
     "output_type": "stream",
     "text": [
      "Requirement already up-to-date: matplotlib in /Users/linghuiwu/opt/anaconda3/lib/python3.7/site-packages (3.2.1)\n",
      "Requirement already satisfied, skipping upgrade: pyparsing!=2.0.4,!=2.1.2,!=2.1.6,>=2.0.1 in /Users/linghuiwu/opt/anaconda3/lib/python3.7/site-packages (from matplotlib) (2.4.6)\n",
      "Requirement already satisfied, skipping upgrade: numpy>=1.11 in /Users/linghuiwu/opt/anaconda3/lib/python3.7/site-packages (from matplotlib) (1.18.1)\n",
      "Requirement already satisfied, skipping upgrade: kiwisolver>=1.0.1 in /Users/linghuiwu/opt/anaconda3/lib/python3.7/site-packages (from matplotlib) (1.1.0)\n",
      "Requirement already satisfied, skipping upgrade: cycler>=0.10 in /Users/linghuiwu/opt/anaconda3/lib/python3.7/site-packages (from matplotlib) (0.10.0)\n",
      "Requirement already satisfied, skipping upgrade: python-dateutil>=2.1 in /Users/linghuiwu/opt/anaconda3/lib/python3.7/site-packages (from matplotlib) (2.8.1)\n",
      "Requirement already satisfied, skipping upgrade: setuptools in /Users/linghuiwu/opt/anaconda3/lib/python3.7/site-packages (from kiwisolver>=1.0.1->matplotlib) (46.0.0.post20200309)\n",
      "Requirement already satisfied, skipping upgrade: six in /Users/linghuiwu/opt/anaconda3/lib/python3.7/site-packages (from cycler>=0.10->matplotlib) (1.14.0)\n",
      "Note: you may need to restart the kernel to use updated packages.\n"
     ]
    }
   ],
   "source": [
    "pip install --upgrade matplotlib"
   ]
  },
  {
   "cell_type": "code",
   "execution_count": null,
   "metadata": {},
   "outputs": [],
   "source": [
    "from mpl_toolkits.basemap import Basemap\n",
    "from sklearn.datasets.species_distributions import construct_grids\n",
    "\n",
    "xgrid, ygrid = construct_grids(data)\n",
    "\n",
    "# plot coastlines with basemap\n",
    "m = Basemap(projection='cyl', resolution='c',\n",
    "            llcrnrlat=ygrid.min(), urcrnrlat=ygrid.max(),\n",
    "            llcrnrlon=xgrid.min(), urcrnrlon=xgrid.max())\n",
    "m.drawmapboundary(fill_color='#DDEEFF')\n",
    "m.fillcontinents(color='#FFEEDD')\n",
    "m.drawcoastlines(color='gray', zorder=2)\n",
    "m.drawcountries(color='gray', zorder=2)\n",
    "\n",
    "# plot locations\n",
    "m.scatter(latlon[:, 1], latlon[:, 0], zorder=3,\n",
    "          c=species, cmap='rainbow', latlon=True);"
   ]
  },
  {
   "cell_type": "markdown",
   "metadata": {},
   "source": [
    "Unfortunately, this doesn't give a very good idea of the density of the species, because points in the species range may overlap one another.\n",
    "You may not realize it by looking at this plot, but there are over 1,600 points shown here!\n",
    "\n",
    "Let's use kernel density estimation to show this distribution in a more interpretable way: as a smooth indication of density on the map.\n",
    "Because the coordinate system here lies on a spherical surface rather than a flat plane, we will use the ``haversine`` distance metric, which will correctly represent distances on a curved surface.\n",
    "\n",
    "There is a bit of boilerplate code here (one of the disadvantages of the Basemap toolkit) but the meaning of each code block should be clear:"
   ]
  },
  {
   "cell_type": "code",
   "execution_count": null,
   "metadata": {},
   "outputs": [],
   "source": [
    "# Set up the data grid for the contour plot\n",
    "X, Y = np.meshgrid(xgrid[::5], ygrid[::5][::-1])\n",
    "land_reference = data.coverages[6][::5, ::5]\n",
    "land_mask = (land_reference > -9999).ravel()\n",
    "xy = np.vstack([Y.ravel(), X.ravel()]).T\n",
    "xy = np.radians(xy[land_mask])\n",
    "\n",
    "# Create two side-by-side plots\n",
    "fig, ax = plt.subplots(1, 2)\n",
    "fig.subplots_adjust(left=0.05, right=0.95, wspace=0.05)\n",
    "species_names = ['Bradypus Variegatus', 'Microryzomys Minutus']\n",
    "cmaps = ['Purples', 'Reds']\n",
    "\n",
    "for i, axi in enumerate(ax):\n",
    "    axi.set_title(species_names[i])\n",
    "    \n",
    "    # plot coastlines with basemap\n",
    "    m = Basemap(projection='cyl', llcrnrlat=Y.min(),\n",
    "                urcrnrlat=Y.max(), llcrnrlon=X.min(),\n",
    "                urcrnrlon=X.max(), resolution='c', ax=axi)\n",
    "    m.drawmapboundary(fill_color='#DDEEFF')\n",
    "    m.drawcoastlines()\n",
    "    m.drawcountries()\n",
    "    \n",
    "    # construct a spherical kernel density estimate of the distribution\n",
    "    kde = KernelDensity(bandwidth=0.03, metric='haversine')\n",
    "    kde.fit(np.radians(latlon[species == i]))\n",
    "\n",
    "    # evaluate only on the land: -9999 indicates ocean\n",
    "    Z = np.full(land_mask.shape[0], -9999.0)\n",
    "    Z[land_mask] = np.exp(kde.score_samples(xy))\n",
    "    Z = Z.reshape(X.shape)\n",
    "\n",
    "    # plot contours of the density\n",
    "    levels = np.linspace(0, Z.max(), 25)\n",
    "    axi.contourf(X, Y, Z, levels=levels, cmap=cmaps[i])"
   ]
  },
  {
   "cell_type": "markdown",
   "metadata": {},
   "source": [
    "Compared to the simple scatter plot we initially used, this visualization paints a much clearer picture of the geographical distribution of observations of these two species."
   ]
  },
  {
   "cell_type": "markdown",
   "metadata": {},
   "source": [
    "## Example: Not-So-Naive Bayes\n",
    "\n",
    "This example looks at Bayesian generative classification with KDE, and demonstrates how to use the Scikit-Learn architecture to create a custom estimator.\n",
    "\n",
    "In [In Depth: Naive Bayes Classification](05.05-Naive-Bayes.ipynb), we took a look at naive Bayesian classification, in which we created a simple generative model for each class, and used these models to build a fast classifier.\n",
    "For Gaussian naive Bayes, the generative model is a simple axis-aligned Gaussian.\n",
    "With a density estimation algorithm like KDE, we can remove the \"naive\" element and perform the same classification with a more sophisticated generative model for each class.\n",
    "It's still Bayesian classification, but it's no longer naive.\n",
    "\n",
    "The general approach for generative classification is this:\n",
    "\n",
    "1. Split the training data by label.\n",
    "\n",
    "2. For each set, fit a KDE to obtain a generative model of the data.\n",
    "   This allows you for any observation $x$ and label $y$ to compute a likelihood $P(x~|~y)$.\n",
    "   \n",
    "3. From the number of examples of each class in the training set, compute the *class prior*, $P(y)$.\n",
    "\n",
    "4. For an unknown point $x$, the posterior probability for each class is $P(y~|~x) \\propto P(x~|~y)P(y)$.\n",
    "   The class which maximizes this posterior is the label assigned to the point.\n",
    "\n",
    "The algorithm is straightforward and intuitive to understand; the more difficult piece is couching it within the Scikit-Learn framework in order to make use of the grid search and cross-validation architecture.\n",
    "\n",
    "This is the code that implements the algorithm within the Scikit-Learn framework; we will step through it following the code block:"
   ]
  },
  {
   "cell_type": "code",
   "execution_count": 24,
   "metadata": {},
   "outputs": [],
   "source": [
    "from sklearn.base import BaseEstimator, ClassifierMixin\n",
    "\n",
    "class KDEClassifier(BaseEstimator, ClassifierMixin):\n",
    "    \"\"\"Bayesian generative classification based on KDE\n",
    "    \n",
    "    Parameters\n",
    "    ----------\n",
    "    bandwidth : float\n",
    "        the kernel bandwidth within each class\n",
    "    kernel : str\n",
    "        the kernel name, passed to KernelDensity\n",
    "    \"\"\"\n",
    "    def __init__(self, bandwidth=1.0, kernel='gaussian'):\n",
    "        self.bandwidth = bandwidth\n",
    "        self.kernel = kernel\n",
    "        \n",
    "    def fit(self, X, y):\n",
    "        self.classes_ = np.sort(np.unique(y))\n",
    "        training_sets = [X[y == yi] for yi in self.classes_]\n",
    "        self.models_ = [KernelDensity(bandwidth=self.bandwidth,\n",
    "                                      kernel=self.kernel).fit(Xi)\n",
    "                        for Xi in training_sets]\n",
    "        self.logpriors_ = [np.log(Xi.shape[0] / X.shape[0])\n",
    "                           for Xi in training_sets]\n",
    "        return self\n",
    "        \n",
    "    def predict_proba(self, X):\n",
    "        logprobs = np.array([model.score_samples(X)\n",
    "                             for model in self.models_]).T\n",
    "        result = np.exp(logprobs + self.logpriors_)\n",
    "        return result / result.sum(1, keepdims=True)\n",
    "        \n",
    "    def predict(self, X):\n",
    "        return self.classes_[np.argmax(self.predict_proba(X), 1)]"
   ]
  },
  {
   "cell_type": "markdown",
   "metadata": {},
   "source": [
    "### The anatomy of a custom estimator"
   ]
  },
  {
   "cell_type": "markdown",
   "metadata": {},
   "source": [
    "Let's step through this code and discuss the essential features:\n",
    "\n",
    "```python\n",
    "from sklearn.base import BaseEstimator, ClassifierMixin\n",
    "\n",
    "class KDEClassifier(BaseEstimator, ClassifierMixin):\n",
    "    \"\"\"Bayesian generative classification based on KDE\n",
    "    \n",
    "    Parameters\n",
    "    ----------\n",
    "    bandwidth : float\n",
    "        the kernel bandwidth within each class\n",
    "    kernel : str\n",
    "        the kernel name, passed to KernelDensity\n",
    "    \"\"\"\n",
    "```\n",
    "\n",
    "Each estimator in Scikit-Learn is a class, and it is most convenient for this class to inherit from the ``BaseEstimator`` class as well as the appropriate mixin, which provides standard functionality.\n",
    "For example, among other things, here the ``BaseEstimator`` contains the logic necessary to clone/copy an estimator for use in a cross-validation procedure, and ``ClassifierMixin`` defines a default ``score()`` method used by such routines.\n",
    "We also provide a doc string, which will be captured by IPython's help functionality (see [Help and Documentation in IPython](01.01-Help-And-Documentation.ipynb))."
   ]
  },
  {
   "cell_type": "markdown",
   "metadata": {},
   "source": [
    "Next comes the class initialization method:\n",
    "\n",
    "```python\n",
    "    def __init__(self, bandwidth=1.0, kernel='gaussian'):\n",
    "        self.bandwidth = bandwidth\n",
    "        self.kernel = kernel\n",
    "```\n",
    "\n",
    "This is the actual code that is executed when the object is instantiated with ``KDEClassifier()``.\n",
    "In Scikit-Learn, it is important that *initialization contains no operations* other than assigning the passed values by name to ``self``.\n",
    "This is due to the logic contained in ``BaseEstimator`` required for cloning and modifying estimators for cross-validation, grid search, and other functions.\n",
    "Similarly, all arguments to ``__init__`` should be explicit: i.e. ``*args`` or ``**kwargs`` should be avoided, as they will not be correctly handled within cross-validation routines."
   ]
  },
  {
   "cell_type": "markdown",
   "metadata": {},
   "source": [
    "Next comes the ``fit()`` method, where we handle training data:\n",
    "\n",
    "```python \n",
    "    def fit(self, X, y):\n",
    "        self.classes_ = np.sort(np.unique(y))\n",
    "        training_sets = [X[y == yi] for yi in self.classes_]\n",
    "        self.models_ = [KernelDensity(bandwidth=self.bandwidth,\n",
    "                                      kernel=self.kernel).fit(Xi)\n",
    "                        for Xi in training_sets]\n",
    "        self.logpriors_ = [np.log(Xi.shape[0] / X.shape[0])\n",
    "                           for Xi in training_sets]\n",
    "        return self\n",
    "```\n",
    "\n",
    "Here we find the unique classes in the training data, train a ``KernelDensity`` model for each class, and compute the class priors based on the number of input samples.\n",
    "Finally, ``fit()`` should always return ``self`` so that we can chain commands. For example:\n",
    "```python\n",
    "label = model.fit(X, y).predict(X)\n",
    "```\n",
    "Notice that each persistent result of the fit is stored with a trailing underscore (e.g., ``self.logpriors_``).\n",
    "This is a convention used in Scikit-Learn so that you can quickly scan the members of an estimator (using IPython's tab completion) and see exactly which members are fit to training data."
   ]
  },
  {
   "cell_type": "markdown",
   "metadata": {},
   "source": [
    "Finally, we have the logic for predicting labels on new data:\n",
    "```python\n",
    "    def predict_proba(self, X):\n",
    "        logprobs = np.vstack([model.score_samples(X)\n",
    "                              for model in self.models_]).T\n",
    "        result = np.exp(logprobs + self.logpriors_)\n",
    "        return result / result.sum(1, keepdims=True)\n",
    "        \n",
    "    def predict(self, X):\n",
    "        return self.classes_[np.argmax(self.predict_proba(X), 1)]\n",
    "```\n",
    "Because this is a probabilistic classifier, we first implement ``predict_proba()`` which returns an array of class probabilities of shape ``[n_samples, n_classes]``.\n",
    "Entry ``[i, j]`` of this array is the posterior probability that sample ``i`` is a member of class ``j``, computed by multiplying the likelihood by the class prior and normalizing.\n",
    "\n",
    "Finally, the ``predict()`` method uses these probabilities and simply returns the class with the largest probability."
   ]
  },
  {
   "cell_type": "markdown",
   "metadata": {},
   "source": [
    "# Refer to the notebook in the upstream branch\n",
    "\n",
    "### Using our custom estimator\n",
    "\n",
    "Let's try this custom estimator on a problem we have seen before: the classification of hand-written digits.\n",
    "Here we will load the digits, and compute the cross-validation score for a range of candidate bandwidths using the ``GridSearchCV`` meta-estimator (refer back to [Hyperparameters and Model Validation](05.03-Hyperparameters-and-Model-Validation.ipynb)):"
   ]
  },
  {
   "cell_type": "code",
   "execution_count": null,
   "metadata": {},
   "outputs": [],
   "source": [
    "from sklearn import *\n",
    "from sklearn.datasets import load_digits\n",
    "from sklearn.model_selection import GridSearchCV\n",
    "# from sklearn.grid_search import GridSearchCV\n",
    "\n",
    "digits = load_digits()\n",
    "\n",
    "bandwidths = 10 ** np.linspace(0, 2, 100)\n",
    "grid = GridSearchCV(KDEClassifier(), {'bandwidth': bandwidths})\n",
    "grid.fit(digits.data, digits.target)\n",
    "\n",
    "scores = [val.mean_validation_score for val in grid.grid_scores_]"
   ]
  },
  {
   "cell_type": "markdown",
   "metadata": {},
   "source": [
    "Next we can plot the cross-validation score as a function of bandwidth:"
   ]
  },
  {
   "cell_type": "code",
   "execution_count": null,
   "metadata": {},
   "outputs": [],
   "source": [
    "plt.semilogx(bandwidths, scores)\n",
    "plt.xlabel('bandwidth')\n",
    "plt.ylabel('accuracy')\n",
    "plt.title('KDE Model Performance')\n",
    "print(grid.best_params_)\n",
    "print('accuracy =', grid.best_score_)"
   ]
  },
  {
   "cell_type": "markdown",
   "metadata": {},
   "source": [
    "We see that this not-so-naive Bayesian classifier reaches a cross-validation accuracy of just over 96%; this is compared to around 80% for the naive Bayesian classification:"
   ]
  },
  {
   "cell_type": "code",
   "execution_count": null,
   "metadata": {
    "scrolled": true
   },
   "outputs": [],
   "source": [
    "from sklearn.naive_bayes import GaussianNB\n",
    "from sklearn.cross_validation import cross_val_score\n",
    "cross_val_score(GaussianNB(), digits.data, digits.target).mean()"
   ]
  },
  {
   "cell_type": "markdown",
   "metadata": {},
   "source": [
    "One benefit of such a generative classifier is interpretability of results: for each unknown sample, we not only get a probabilistic classification, but a *full model* of the distribution of points we are comparing it to!\n",
    "If desired, this offers an intuitive window into the reasons for a particular classification that algorithms like SVMs and random forests tend to obscure.\n",
    "\n",
    "If you would like to take this further, there are some improvements that could be made to our KDE classifier model:\n",
    "\n",
    "- we could allow the bandwidth in each class to vary independently\n",
    "- we could optimize these bandwidths not based on their prediction score, but on the likelihood of the training data under the generative model within each class (i.e. use the scores from ``KernelDensity`` itself rather than the global prediction accuracy)\n",
    "\n",
    "Finally, if you want some practice building your own estimator, you might tackle building a similar Bayesian classifier using Gaussian Mixture Models instead of KDE."
   ]
  },
  {
   "cell_type": "markdown",
   "metadata": {},
   "source": [
    "<!--NAVIGATION-->\n",
    "< [In Depth: Gaussian Mixture Models](05.12-Gaussian-Mixtures.ipynb) | [Contents](Index.ipynb) | [Application: A Face Detection Pipeline](05.14-Image-Features.ipynb) >"
   ]
  }
 ],
 "metadata": {
  "anaconda-cloud": {},
  "kernelspec": {
   "display_name": "Python 3",
   "language": "python",
   "name": "python3"
  },
  "language_info": {
   "codemirror_mode": {
    "name": "ipython",
    "version": 3
   },
   "file_extension": ".py",
   "mimetype": "text/x-python",
   "name": "python",
   "nbconvert_exporter": "python",
   "pygments_lexer": "ipython3",
   "version": "3.7.6"
  }
 },
 "nbformat": 4,
 "nbformat_minor": 1
}
