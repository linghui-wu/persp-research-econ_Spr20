{
 "cells": [
  {
   "cell_type": "markdown",
   "metadata": {},
   "source": [
    "## Trade & Media Slant - LSTM Sentiment Analysis\n",
    "\n",
    "Linghui Wu"
   ]
  },
  {
   "cell_type": "code",
   "execution_count": 1,
   "metadata": {},
   "outputs": [
    {
     "name": "stderr",
     "output_type": "stream",
     "text": [
      "Using TensorFlow backend.\n"
     ]
    }
   ],
   "source": [
    "# -*- coding: utf-8 -*-\n",
    "from keras.layers.core import Activation, Dense\n",
    "from keras.layers.embeddings import Embedding\n",
    "from keras.layers.recurrent import LSTM\n",
    "from keras.models import Sequential\n",
    "from keras.preprocessing import sequence\n",
    "from sklearn.model_selection import train_test_split\n",
    "from sklearn import metrics\n",
    "import collections\n",
    "import nltk\n",
    "import pandas as pd\n",
    "import numpy as np\n",
    "import matplotlib.pyplot as plt\n",
    "import warnings\n",
    "warnings.filterwarnings(\"ignore\")"
   ]
  },
  {
   "cell_type": "code",
   "execution_count": 2,
   "metadata": {},
   "outputs": [
    {
     "name": "stdout",
     "output_type": "stream",
     "text": [
      "Max Length:  80\n",
      "Number of words:  6561\n"
     ]
    }
   ],
   "source": [
    "# Exploratory Data Analysis\n",
    "maxlen = 0\n",
    "word_freqs = collections.Counter()\n",
    "num_recs = 0\n",
    "with open(\"../data/train.txt\",\"r+\") as f:\n",
    "    for line in f:\n",
    "        label, sentence = line.strip().split(\"\\t\")\n",
    "        words = nltk.word_tokenize(sentence.lower())\n",
    "        if len(words) > maxlen:\n",
    "            maxlen = len(words)\n",
    "        for word in words:\n",
    "            word_freqs[word] += 1\n",
    "        num_recs += 1\n",
    "print(\"Max Length: \", maxlen)\n",
    "print(\"Number of words: \", len(word_freqs))"
   ]
  },
  {
   "cell_type": "code",
   "execution_count": 3,
   "metadata": {},
   "outputs": [],
   "source": [
    "# Data preparations\n",
    "MAX_FEATURES = 2000\n",
    "MAX_SENTENCE_LENGTH = 40\n",
    "vocab_size = min(MAX_FEATURES, len(word_freqs)) + 2\n",
    "word2index = {x[0]: i+2 for i, x in enumerate(word_freqs.most_common(MAX_FEATURES))}\n",
    "word2index[\"PAD\"] = 0\n",
    "word2index[\"UNK\"] = 1\n",
    "index2word = {v:k for k, v in word2index.items()}\n",
    "X = np.empty(num_recs,dtype=list)\n",
    "y = np.zeros(num_recs)\n",
    "i = 0\n",
    "with open(\"../data/train.txt\",\"r+\") as f:\n",
    "    for line in f:\n",
    "        label, sentence = line.strip().split(\"\\t\")\n",
    "        words = nltk.word_tokenize(sentence.lower())\n",
    "        seqs = []\n",
    "        for word in words:\n",
    "            if word in word2index:\n",
    "                seqs.append(word2index[word])\n",
    "            else:\n",
    "                seqs.append(word2index[\"UNK\"])\n",
    "        X[i] = seqs\n",
    "        y[i] = int(label)\n",
    "        i += 1\n",
    "\n",
    "X = sequence.pad_sequences(X, maxlen=MAX_SENTENCE_LENGTH)\n",
    "Xtrain, Xtest, ytrain, ytest = train_test_split(X, y, test_size=0.2, random_state=42)"
   ]
  },
  {
   "cell_type": "code",
   "execution_count": 4,
   "metadata": {},
   "outputs": [],
   "source": [
    "# Construct neural network\n",
    "EMBEDDING_SIZE = 128\n",
    "HIDDEN_LAYER_SIZE = 64\n",
    "BATCH_SIZE = 32\n",
    "NUM_EPOCHS = 10\n",
    "model = Sequential()\n",
    "model.add(Embedding(vocab_size, EMBEDDING_SIZE,input_length=MAX_SENTENCE_LENGTH))\n",
    "model.add(LSTM(HIDDEN_LAYER_SIZE, dropout=0.2, recurrent_dropout=0.2))\n",
    "model.add(Dense(1))\n",
    "model.add(Activation(\"sigmoid\"))\n",
    "model.compile(loss=\"binary_crossentropy\", optimizer=\"adam\", metrics=[\"accuracy\"])"
   ]
  },
  {
   "cell_type": "code",
   "execution_count": 5,
   "metadata": {},
   "outputs": [
    {
     "name": "stdout",
     "output_type": "stream",
     "text": [
      "Train on 3528 samples, validate on 883 samples\n",
      "Epoch 1/10\n",
      "3528/3528 [==============================] - 3s 889us/step - loss: 0.6050 - accuracy: 0.6709 - val_loss: 0.4274 - val_accuracy: 0.8120\n",
      "Epoch 2/10\n",
      "3528/3528 [==============================] - 3s 732us/step - loss: 0.3149 - accuracy: 0.8759 - val_loss: 0.3683 - val_accuracy: 0.8426\n",
      "Epoch 3/10\n",
      "3528/3528 [==============================] - 2s 678us/step - loss: 0.2046 - accuracy: 0.9252 - val_loss: 0.3487 - val_accuracy: 0.8460\n",
      "Epoch 4/10\n",
      "3528/3528 [==============================] - 2s 665us/step - loss: 0.1485 - accuracy: 0.9467 - val_loss: 0.4013 - val_accuracy: 0.8414\n",
      "Epoch 5/10\n",
      "3528/3528 [==============================] - 2s 667us/step - loss: 0.1211 - accuracy: 0.9558 - val_loss: 0.4219 - val_accuracy: 0.8426\n",
      "Epoch 6/10\n",
      "3528/3528 [==============================] - 2s 693us/step - loss: 0.1038 - accuracy: 0.9617 - val_loss: 0.5150 - val_accuracy: 0.8482\n",
      "Epoch 7/10\n",
      "3528/3528 [==============================] - 2s 684us/step - loss: 0.0876 - accuracy: 0.9685 - val_loss: 0.5264 - val_accuracy: 0.8426\n",
      "Epoch 8/10\n",
      "3528/3528 [==============================] - 2s 678us/step - loss: 0.0635 - accuracy: 0.9793 - val_loss: 0.5586 - val_accuracy: 0.8414\n",
      "Epoch 9/10\n",
      "3528/3528 [==============================] - 2s 681us/step - loss: 0.0596 - accuracy: 0.9765 - val_loss: 0.6598 - val_accuracy: 0.8392\n",
      "Epoch 10/10\n",
      "3528/3528 [==============================] - 2s 673us/step - loss: 0.0472 - accuracy: 0.9824 - val_loss: 0.6804 - val_accuracy: 0.8279\n"
     ]
    },
    {
     "data": {
      "text/plain": [
       "<keras.callbacks.callbacks.History at 0x1a40fd2c10>"
      ]
     },
     "execution_count": 5,
     "metadata": {},
     "output_type": "execute_result"
    }
   ],
   "source": [
    "# Train the model\n",
    "model.fit(Xtrain, ytrain, batch_size=BATCH_SIZE, epochs=NUM_EPOCHS,validation_data=(Xtest, ytest))"
   ]
  },
  {
   "cell_type": "code",
   "execution_count": 6,
   "metadata": {},
   "outputs": [
    {
     "name": "stdout",
     "output_type": "stream",
     "text": [
      "883/883 [==============================] - 0s 153us/step\n",
      "\n",
      "Test score: 0.680, accuracy: 0.828\n",
      "Predicted\tTrue\tSentence.\n",
      "1\t\t1\t\tmy side greek salad with the greek dressing was so tasty , and the pita and hummus was very UNK .\n",
      "0\t\t0\t\ti heard da vinci code sucked UNK much only UNK stars :\n",
      "0\t\t0\t\ti had the chicken pho and it tasted very bland .\n",
      "1\t\t0\t\tsay UNK UNK to your tip lady !\n",
      "0\t\t1\t\tokay , i like to consider myself a fair UNK , so i 'll give credit where credit 's due -- the creature effects were actually pretty cool .\n"
     ]
    }
   ],
   "source": [
    "# Prediction\n",
    "score, acc = model.evaluate(Xtest, ytest, batch_size=BATCH_SIZE)\n",
    "print(\"\\nTest score: %.3f, accuracy: %.3f\" % (score, acc))\n",
    "print(\"{}\\t{}\\t{}.\".format(\"Predicted\",\"True\",\"Sentence\"))\n",
    "for i in range(5):\n",
    "    idx = np.random.randint(len(Xtest))\n",
    "    xtest = Xtest[idx].reshape(1,40)\n",
    "    ylabel = ytest[idx]\n",
    "    ypred = model.predict(xtest)[0][0]\n",
    "    sent = \" \".join([index2word[x] for x in xtest[0] if x != 0])\n",
    "    print(\"{}\\t\\t{}\\t\\t{}\".format(int(round(ypred)), int(ylabel), sent))"
   ]
  },
  {
   "cell_type": "code",
   "execution_count": 7,
   "metadata": {},
   "outputs": [
    {
     "data": {
      "image/png": "[encoded data removed]",
      "text/plain": [
       "<Figure size 720x720 with 2 Axes>"
      ]
     },
     "metadata": {
      "needs_background": "light"
     },
     "output_type": "display_data"
    },
    {
     "data": {
      "text/plain": [
       "<matplotlib.axes._subplots.AxesSubplot at 0x1a3f12d750>"
      ]
     },
     "execution_count": 7,
     "metadata": {},
     "output_type": "execute_result"
    }
   ],
   "source": [
    "# Define a function that prints and plots the confusion matrix\n",
    "def plot_confusion_matrix(cm, classes, cmap=plt.cm.OrRd):\n",
    "\n",
    "    fig, ax = plt.subplots(figsize=(10, 10))\n",
    "    im = ax.imshow(cm, interpolation=\"nearest\", cmap=cmap)\n",
    "    ax.figure.colorbar(im, ax=ax)\n",
    "    # We want to show all ticks...\n",
    "    ax.set(xticks=np.arange(cm.shape[1]), yticks=np.arange(cm.shape[0]),\n",
    "           # ... and label them with the respective list entries\n",
    "           xticklabels=classes, yticklabels=classes)\n",
    "    ax.set_xlabel(\"Predicted Label\", fontsize=25)\n",
    "    ax.set_ylabel(\"True Label\", fontsize=25)\n",
    "\n",
    "    # Rotate the tick labels and set their alignment.\n",
    "    plt.setp(ax.get_xticklabels(), rotation=45, ha=\"right\",\n",
    "             rotation_mode=\"anchor\")\n",
    "\n",
    "    # Loop over data dimensions and create text annotations.\n",
    "    thresh = cm.max() / 2.\n",
    "    for i in range(cm.shape[0]):\n",
    "        for j in range(cm.shape[1]):\n",
    "            ax.text(j, i, format(cm[i, j]), fontsize=25, ha=\"center\", va=\"center\",\n",
    "                    color=\"white\" if cm[i, j] > thresh else \"black\")\n",
    "    fig.tight_layout()\n",
    "    plt.show();\n",
    "    return ax\n",
    "\n",
    "\n",
    "# Calculate and visualize the confusion matrix\n",
    "ypred = model.predict(Xtest)\n",
    "confusion_matrix = metrics.confusion_matrix(ytest, np.rint(ypred))\n",
    "cm = np.array(confusion_matrix)\n",
    "plot_confusion_matrix(cm, classes=range(2))"
   ]
  },
  {
   "cell_type": "code",
   "execution_count": 8,
   "metadata": {
    "scrolled": true
   },
   "outputs": [
    {
     "name": "stdout",
     "output_type": "stream",
     "text": [
      "Negative\t\tThe book is boring.\n",
      "Positive\t\tMake American great again.\n"
     ]
    }
   ],
   "source": [
    "# Try self-input sentences\n",
    "INPUT_SENTENCES = ['The book is boring.','Make American great again.']\n",
    "XX = np.empty(len(INPUT_SENTENCES),dtype=list)\n",
    "i = 0\n",
    "for sentence in  INPUT_SENTENCES:\n",
    "    words = nltk.word_tokenize(sentence.lower())\n",
    "    seq = []\n",
    "    for word in words:\n",
    "        if word in word2index:\n",
    "            seq.append(word2index[word])\n",
    "        else:\n",
    "            seq.append(word2index['UNK'])\n",
    "    XX[i] = seq\n",
    "    i += 1\n",
    "XX = sequence.pad_sequences(XX, maxlen=MAX_SENTENCE_LENGTH)\n",
    "labels = [int(round(x[0])) for x in model.predict(XX) ]\n",
    "label2word = {1:\"Positive\", 0:\"Negative\"}\n",
    "for i in range(len(INPUT_SENTENCES)):\n",
    "    print('{}\\t\\t{}'.format(label2word[labels[i]], INPUT_SENTENCES[i]))"
   ]
  },
  {
   "cell_type": "code",
   "execution_count": 9,
   "metadata": {},
   "outputs": [
    {
     "data": {
      "text/html": [
       "<div>\n",
       "<style scoped>\n",
       "    .dataframe tbody tr th:only-of-type {\n",
       "        vertical-align: middle;\n",
       "    }\n",
       "\n",
       "    .dataframe tbody tr th {\n",
       "        vertical-align: top;\n",
       "    }\n",
       "\n",
       "    .dataframe thead th {\n",
       "        text-align: right;\n",
       "    }\n",
       "</style>\n",
       "<table border=\"1\" class=\"dataframe\">\n",
       "  <thead>\n",
       "    <tr style=\"text-align: right;\">\n",
       "      <th></th>\n",
       "      <th>Unnamed: 0</th>\n",
       "      <th>title</th>\n",
       "      <th>abstract</th>\n",
       "      <th>content</th>\n",
       "      <th>publisher</th>\n",
       "      <th>year</th>\n",
       "      <th>sent_blob</th>\n",
       "      <th>sent_lstm</th>\n",
       "    </tr>\n",
       "  </thead>\n",
       "  <tbody>\n",
       "    <tr>\n",
       "      <th>0</th>\n",
       "      <td>0</td>\n",
       "      <td>Arkansas Democrat-Gazette (Little Rock, AR)</td>\n",
       "      <td>No surprise</td>\n",
       "      <td>No one who has followed Saddam Hussein's caree...</td>\n",
       "      <td>Gazette</td>\n",
       "      <td>1998</td>\n",
       "      <td>0.125000</td>\n",
       "      <td>0</td>\n",
       "    </tr>\n",
       "    <tr>\n",
       "      <th>1</th>\n",
       "      <td>1</td>\n",
       "      <td>Augusta Chronicle, The (GA)</td>\n",
       "      <td>ORIENTAL FLAVORS GROW ON CHINA GARDEN DINERS</td>\n",
       "      <td>Mu Shu Pork, Moo Goo Gai Pan, Lobster Soon - i...</td>\n",
       "      <td>Augusta Chronicle</td>\n",
       "      <td>1998</td>\n",
       "      <td>0.114286</td>\n",
       "      <td>1</td>\n",
       "    </tr>\n",
       "    <tr>\n",
       "      <th>2</th>\n",
       "      <td>2</td>\n",
       "      <td>Bangor Daily News (ME)</td>\n",
       "      <td>Khano Smith sparks MCI Huskies past Erskine</td>\n",
       "      <td>Khano Smith scored two goals and dished out an...</td>\n",
       "      <td>Daily News</td>\n",
       "      <td>1998</td>\n",
       "      <td>-0.135185</td>\n",
       "      <td>0</td>\n",
       "    </tr>\n",
       "    <tr>\n",
       "      <th>3</th>\n",
       "      <td>3</td>\n",
       "      <td>Daily Tribune News, The (Cartersville, GA)</td>\n",
       "      <td>CHARLEY REESE</td>\n",
       "      <td>Columbus Day is one of my favorite holidays. I...</td>\n",
       "      <td>Tribune</td>\n",
       "      <td>1998</td>\n",
       "      <td>0.233333</td>\n",
       "      <td>1</td>\n",
       "    </tr>\n",
       "    <tr>\n",
       "      <th>4</th>\n",
       "      <td>4</td>\n",
       "      <td>Flint Journal, The (MI)</td>\n",
       "      <td>WORLD REPORT</td>\n",
       "      <td>Italy: American arrested in sale of human orga...</td>\n",
       "      <td>Flint Journal</td>\n",
       "      <td>1998</td>\n",
       "      <td>-0.025000</td>\n",
       "      <td>0</td>\n",
       "    </tr>\n",
       "  </tbody>\n",
       "</table>\n",
       "</div>"
      ],
      "text/plain": [
       "   Unnamed: 0                                        title  \\\n",
       "0           0  Arkansas Democrat-Gazette (Little Rock, AR)   \n",
       "1           1                  Augusta Chronicle, The (GA)   \n",
       "2           2                       Bangor Daily News (ME)   \n",
       "3           3   Daily Tribune News, The (Cartersville, GA)   \n",
       "4           4                      Flint Journal, The (MI)   \n",
       "\n",
       "                                       abstract  \\\n",
       "0                                   No surprise   \n",
       "1  ORIENTAL FLAVORS GROW ON CHINA GARDEN DINERS   \n",
       "2   Khano Smith sparks MCI Huskies past Erskine   \n",
       "3                                 CHARLEY REESE   \n",
       "4                                  WORLD REPORT   \n",
       "\n",
       "                                             content          publisher  year  \\\n",
       "0  No one who has followed Saddam Hussein's caree...            Gazette  1998   \n",
       "1  Mu Shu Pork, Moo Goo Gai Pan, Lobster Soon - i...  Augusta Chronicle  1998   \n",
       "2  Khano Smith scored two goals and dished out an...         Daily News  1998   \n",
       "3  Columbus Day is one of my favorite holidays. I...            Tribune  1998   \n",
       "4  Italy: American arrested in sale of human orga...      Flint Journal  1998   \n",
       "\n",
       "   sent_blob  sent_lstm  \n",
       "0   0.125000          0  \n",
       "1   0.114286          1  \n",
       "2  -0.135185          0  \n",
       "3   0.233333          1  \n",
       "4  -0.025000          0  "
      ]
     },
     "execution_count": 9,
     "metadata": {},
     "output_type": "execute_result"
    }
   ],
   "source": [
    "# Perform LSTM sentiment analysis on news\n",
    "news = pd.read_excel(\"../data/news.xlsx\")\n",
    "news.head()"
   ]
  },
  {
   "cell_type": "code",
   "execution_count": 10,
   "metadata": {
    "scrolled": true
   },
   "outputs": [],
   "source": [
    "articles = news[\"content\"].values\n",
    "XX = np.empty(len(articles),dtype=list)\n",
    "i=0\n",
    "for article in  articles:\n",
    "    words = nltk.word_tokenize(article.lower())\n",
    "    seq = []\n",
    "    for word in words:\n",
    "        if word in word2index:\n",
    "            seq.append(word2index[word])\n",
    "        else:\n",
    "            seq.append(word2index['UNK'])\n",
    "    XX[i] = seq\n",
    "    i += 1\n",
    "XX = sequence.pad_sequences(XX, maxlen=MAX_SENTENCE_LENGTH)\n",
    "sent_lstm = [int(round(x[0])) for x in model.predict(XX)]\n",
    "news[\"sent_lstm\"] = sent_lstm\n",
    "news.to_excel(\"../data/news.xlsx\")"
   ]
  }
 ],
 "metadata": {
  "kernelspec": {
   "display_name": "Python 3",
   "language": "python",
   "name": "python3"
  },
  "language_info": {
   "codemirror_mode": {
    "name": "ipython",
    "version": 3
   },
   "file_extension": ".py",
   "mimetype": "text/x-python",
   "name": "python",
   "nbconvert_exporter": "python",
   "pygments_lexer": "ipython3",
   "version": "3.7.6"
  }
 },
 "nbformat": 4,
 "nbformat_minor": 4
}
